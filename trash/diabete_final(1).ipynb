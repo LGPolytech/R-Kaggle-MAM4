{
 "cells": [
  {
   "cell_type": "markdown",
   "id": "53343a04",
   "metadata": {
    "_execution_state": "idle",
    "_uuid": "051d70d956493feee0c6d64651c6a088724dca2a",
    "papermill": {
     "duration": 0.005585,
     "end_time": "2023-03-11T12:15:26.903393",
     "exception": false,
     "start_time": "2023-03-11T12:15:26.897808",
     "status": "completed"
    },
    "tags": []
   },
   "source": [
    "## **Kaggle Challenge**\n",
    "\n",
    "## Partie 1\n",
    "\n",
    "---\n",
    "#### *Ecrit par :*\n",
    "\n",
    "### GANDEEL Lo'aï, SIEGEL Tom, GENOUD-DUVILLARET Benoît\n",
    "MAM 4 \n",
    "\n",
    "\n"
   ]
  },
  {
   "attachments": {},
   "cell_type": "markdown",
   "id": "fa24288e",
   "metadata": {
    "papermill": {
     "duration": 0.004336,
     "end_time": "2023-03-11T12:15:26.912422",
     "exception": false,
     "start_time": "2023-03-11T12:15:26.908086",
     "status": "completed"
    },
    "tags": []
   },
   "source": [
    "### **Introduction : analyse du dataset**\n",
    "\n",
    "La base du **Kaggle challenge** repose sur le choix du dataset choisi. Nous avons décidé de nous baser sur le dataset suivant : [Diabetes Health Indicators Dataset](https://www.kaggle.com/datasets/alexteboul/diabetes-health-indicators-dataset). Voici un déscriptif rapide du dis dataset :\n",
    "\n",
    "Il s'agit d'un sous-dataset d'un dataset original créé par le [CDC](https://en.wikipedia.org/wiki/Centers_for_Disease_Control_and_Prevention), le Centre pour le contrôle et la prévention des maladies aux USA. Ce dataset original a été créé a partir du \"Behavioral Risk Factor Surveillance System\" ([BRFSS](https://www.cdc.gov/brfss/index.html)), qui est un sondage téléphonique collecté et compilé annuellement par le CDC. Notre dataset est basé sur le sondage BRFSS de l'année 2015, plus particulièrement sur les indicateurs des risques de développement d'un diabète.\n",
    "Notre dataset est séparé en trois sous-dataset, qui contiennent eux même 22 variables différents que voici :\n",
    "\n",
    "- Diabetes_012        : L'individue est sain (0), pré-diabétique (1) ou diabétique (2)\n",
    "- Diabete_binary      : L'individue est sain (0), ou diabétique (1) (on exclus les pré-diabétique).\n",
    "- HighBP              : La tension artérielle de l'individu est élevée (1 (>140mmHj)) ou non (0). \n",
    "- HighChol            : Le taux de choléstérol de l'individu est élévé (1) ou non (0)\n",
    "- CholCheck           : Le taux de choléstérol de l'individu à été véréfié dans les 5 dérnières années (1) ou non (0)\n",
    "- BMI                 : L'indice de masse corporelle de l'individu\n",
    "- Smoker              : L'individu a-t-il déjà fumé plus de 100 cigarettes (5 paquets) au cours de sa vie ? oui (1), non (0)\n",
    "- Stroke              : L'individu a-t-il déjà fais un AVC ? oui(1), non(0)\n",
    "- HeartDiseaseorAttack: L'individu a-t-il une maladie coronarienne ou fait un AVC ? oui (1), non(0)\n",
    "- PhysActivity        : L'individu a-t-il fait une activité sportive (hors travail) dans les 30 derniers jours ? oui(1), non(0)\n",
    "- Fruits              : L'individu consomme-t-il au moins un fruit par jour ? oui(1), non(0)\n",
    "- Veggies             : L'individu consomme-t-il au moins un légume par jour ? oui(1), non(0)\n",
    "- HvyAlcoholConsump   : L'individu est-il un grand consommateur d'alcool ? (hommes adultes buvant plus de 14 verres par semaine et femmes adultes buvant plus de 7 verres par semaine) oui(1), non(0)\n",
    "- AnyHealthcare       : Lindividu a-t-il une couverture de soins de santé (n'importe laquelle) ? Oui(1), non(0)\n",
    "- NoDocbcCost         : L'individu a-t-il été dans l'incapacité d'aller voir un professionnel de santé en raison de ses moyens ? Oui(1), non(0)\n",
    "- GenHlth             : Description générale de la santé de l'individu : Excellent(1)/Very good(2)/Good(3)/Fair(4)/Poor(5)\n",
    "- MentHlth            : Jours de mauvaise santé mentale des individus sondés depuis les 30 derniers jours. (1-30)\n",
    "- PhysHlth            : Jours de mauvaise santé physique des individus sondés depuis les 30 derniers jours. (1-30)\n",
    "- DiffWalk            : L'individu a-t-il du mal à marcher ou à monter les escaliers ? Oui(1), non(0)\n",
    "- Sex                 : Sex de l'individu : homme(1), femme(0)\n",
    "- Age                 : Âge de l'individu : 13 catégories d'âge (séparées tous les 5 ans) : \n",
    "\n",
    "    1 = 18-24 ans,\n",
    "    \n",
    "    2 = 25-29 ans,\n",
    "    \n",
    "    3 = 30-34 ans,\n",
    "    \n",
    "    4 = 35-39 ans,\n",
    "    \n",
    "    5 = 40-44 ans,\n",
    "    \n",
    "    6 = 45-49 ans,\n",
    "    \n",
    "    7 = 50-54 ans,\n",
    "    \n",
    "    8 = 55-59 ans,\n",
    "    \n",
    "    9 = 60-64 ans,\n",
    "    \n",
    "    10 = 65-69 ans,\n",
    "    \n",
    "    11 = 70-74 ans,\n",
    "    \n",
    "    12 = 75-79 ans,\n",
    "    \n",
    "    13 = 80 years ans.\n",
    "\n",
    "- Education           : Niveau d'éducation de l'individu (categorisé de 1 à 6):\n",
    "\n",
    "\n",
    "    1 = N'a jamais été à l'école ou seulement la maternelle,\n",
    "    \n",
    "    2 = Grades 1 à 8 (Elementary),\n",
    "    \n",
    "    3 = Grades 9 à 11 (Some high school),\n",
    "    \n",
    "    4 = Grade 12 à GED (High school graduate),\n",
    "    \n",
    "    5 = Université 1ère à 3ère années,\n",
    "    \n",
    "    6 = Université 4 ans ou plus.\n",
    "\n",
    "\n",
    "- Income              : Revenus de l'individu (categorisé de 1 à 8) : \n",
    "\n",
    "    1 = 10,000 dollars ou moins, \n",
    "    \n",
    "    2 = 10,000 dollars à 15,000 dollars, \n",
    "    \n",
    "    3 = 15,000 à 20,000 dollars, \n",
    "    \n",
    "    4 = 20,000 à 25,000 dollars, \n",
    "    \n",
    "    5 = 25,000 à 35,000 dollars, \n",
    "    \n",
    "    6 = 35,000 à 50,000 dollars, \n",
    "    \n",
    "    7 = 50,000 à 75,000 dollars, \n",
    "    \n",
    "    8 = 75,000 dollars ou plus.\n",
    "\n",
    "\n",
    "\n",
    "Le premier dataset représente les patients sains, prédiabétiques ou diabétiques, et contient 253,680 réponses.\n",
    "Le deuxième représente uniquement des patients sains ou diabétiques (déiabétiques et prédiabétiques métlangés) avec 70,692 réponses, et les réponses entre sains et prédiabétiques sont partagés 50/50. Le troisième dataset est le même que le premier avec les deux colonnes prrédiabétiques et diabétiques fusionnées (on peut le vérifier : all.equal(diabete_dataset1[,-1], diabete_dataset3[,-1]))."
   ]
  },
  {
   "cell_type": "markdown",
   "id": "b5399000",
   "metadata": {
    "papermill": {
     "duration": 0.004231,
     "end_time": "2023-03-11T12:15:26.921279",
     "exception": false,
     "start_time": "2023-03-11T12:15:26.917048",
     "status": "completed"
    },
    "tags": []
   },
   "source": [
    "### **1 - Objectif d'affaire**\n",
    "\n",
    "Notre objectif avec ce dataset serait à terme de pouvoir prévenir le développement du diabète chez une population encore saine.\n",
    "\n",
    "Quels sont les facteurs de risque les plus prédictifs du risque de développement du diabète ? Le niveau de vie (salaire, éducation, etc..) est-il un facteur plus impactant que l'hygiène de vie sur ce risque ? \n",
    "\n",
    "Pouvons-nous utiliser un sous-ensemble de facteurs de risque pour prédire avec précision si une personne est atteinte de diabète ?\n",
    "\n",
    "Pouvons-nous créer un sondage plus cours à partir du BRFSS en utilisant la sélection de fonctionnalités pour prédire avec précision si une personne pourrait être atteinte de diabète ou si elle présente un risque élevé de diabète ?"
   ]
  },
  {
   "cell_type": "markdown",
   "id": "74243e51",
   "metadata": {
    "papermill": {
     "duration": 0.004171,
     "end_time": "2023-03-11T12:15:26.929868",
     "exception": false,
     "start_time": "2023-03-11T12:15:26.925697",
     "status": "completed"
    },
    "tags": []
   },
   "source": [
    "### **2 - Objectif technique**\n",
    "\n",
    "Notre objectif technique avec ce dataset est l'application de la regression logistique afin de déterminer le facteur qui caractérisent les personnes diabétiques des personnes qui ne le sont pas. La regression logistique est un outil très utilisé en médecine et c'est pourquoi nous voulons l'utiliser.\n",
    "\n",
    "Un autre de nos objectif est d'utiliser le deeplearning comme méthode d'analyse avancé de donnée, étant donné que notre dataset semble parfaitement s'y préter (données médicales, trois dataset (train, validation, test))"
   ]
  },
  {
   "cell_type": "markdown",
   "id": "b4c79400",
   "metadata": {
    "papermill": {
     "duration": 0.004177,
     "end_time": "2023-03-11T12:15:26.938290",
     "exception": false,
     "start_time": "2023-03-11T12:15:26.934113",
     "status": "completed"
    },
    "tags": []
   },
   "source": [
    "### **3 - Analyse statistique des données**"
   ]
  },
  {
   "attachments": {},
   "cell_type": "markdown",
   "id": "63e9d85f",
   "metadata": {
    "papermill": {
     "duration": 0.004186,
     "end_time": "2023-03-11T12:15:26.946847",
     "exception": false,
     "start_time": "2023-03-11T12:15:26.942661",
     "status": "completed"
    },
    "tags": []
   },
   "source": [
    "On a tout d'abord beosin de nettoyer nos dataset des données \"NA\" ou \"inf\", c'est-à-dire les données inexistantes ou infinies.\n",
    "\n",
    "#### Chargement des datasets"
   ]
  },
  {
   "cell_type": "code",
   "execution_count": 1,
   "id": "7a9c70e2",
   "metadata": {
    "execution": {
     "iopub.execute_input": "2023-03-11T12:15:26.960582Z",
     "iopub.status.busy": "2023-03-11T12:15:26.957587Z",
     "iopub.status.idle": "2023-03-11T12:15:31.903961Z",
     "shell.execute_reply": "2023-03-11T12:15:31.902141Z"
    },
    "papermill": {
     "duration": 4.956204,
     "end_time": "2023-03-11T12:15:31.907331",
     "exception": false,
     "start_time": "2023-03-11T12:15:26.951127",
     "status": "completed"
    },
    "tags": [],
    "vscode": {
     "languageId": "r"
    }
   },
   "outputs": [],
   "source": [
    "diabete_dataset1 <- read.csv(\"diabetes_012_health_indicators_BRFSS2015.csv\", stringsAsFactors = TRUE, skipNul = TRUE, na.strings = c(\"\"))\n",
    "diabete_dataset2 <- read.csv(\"diabetes_binary_5050split_health_indicators_BRFSS2015.csv\", stringsAsFactors = TRUE, skipNul = TRUE, na.strings = c(\"\"))\n",
    "diabete_dataset3 <- read.csv(\"diabetes_binary_health_indicators_BRFSS2015.csv\", stringsAsFactors = TRUE, skipNul = TRUE, na.strings = c(\"\"))\n"
   ]
  },
  {
   "attachments": {},
   "cell_type": "markdown",
   "id": "0861e400",
   "metadata": {
    "papermill": {
     "duration": 0.004963,
     "end_time": "2023-03-11T12:15:31.917187",
     "exception": false,
     "start_time": "2023-03-11T12:15:31.912224",
     "status": "completed"
    },
    "tags": []
   },
   "source": [
    "#### Dataset avant nettoyage"
   ]
  },
  {
   "cell_type": "code",
   "execution_count": 2,
   "id": "ed4fe62a",
   "metadata": {
    "execution": {
     "iopub.execute_input": "2023-03-11T12:15:31.957415Z",
     "iopub.status.busy": "2023-03-11T12:15:31.928335Z",
     "iopub.status.idle": "2023-03-11T12:15:32.281905Z",
     "shell.execute_reply": "2023-03-11T12:15:32.279651Z"
    },
    "papermill": {
     "duration": 0.362819,
     "end_time": "2023-03-11T12:15:32.284776",
     "exception": false,
     "start_time": "2023-03-11T12:15:31.921957",
     "status": "completed"
    },
    "tags": [],
    "vscode": {
     "languageId": "r"
    }
   },
   "outputs": [
    {
     "data": {
      "text/plain": [
       " Diabetes_binary      HighBP         HighChol        CholCheck     \n",
       " Min.   :0.0000   Min.   :0.000   Min.   :0.0000   Min.   :0.0000  \n",
       " 1st Qu.:0.0000   1st Qu.:0.000   1st Qu.:0.0000   1st Qu.:1.0000  \n",
       " Median :0.0000   Median :0.000   Median :0.0000   Median :1.0000  \n",
       " Mean   :0.1393   Mean   :0.429   Mean   :0.4241   Mean   :0.9627  \n",
       " 3rd Qu.:0.0000   3rd Qu.:1.000   3rd Qu.:1.0000   3rd Qu.:1.0000  \n",
       " Max.   :1.0000   Max.   :1.000   Max.   :1.0000   Max.   :1.0000  \n",
       "      BMI            Smoker           Stroke        HeartDiseaseorAttack\n",
       " Min.   :12.00   Min.   :0.0000   Min.   :0.00000   Min.   :0.00000     \n",
       " 1st Qu.:24.00   1st Qu.:0.0000   1st Qu.:0.00000   1st Qu.:0.00000     \n",
       " Median :27.00   Median :0.0000   Median :0.00000   Median :0.00000     \n",
       " Mean   :28.38   Mean   :0.4432   Mean   :0.04057   Mean   :0.09419     \n",
       " 3rd Qu.:31.00   3rd Qu.:1.0000   3rd Qu.:0.00000   3rd Qu.:0.00000     \n",
       " Max.   :98.00   Max.   :1.0000   Max.   :1.00000   Max.   :1.00000     \n",
       "  PhysActivity        Fruits          Veggies       HvyAlcoholConsump\n",
       " Min.   :0.0000   Min.   :0.0000   Min.   :0.0000   Min.   :0.0000   \n",
       " 1st Qu.:1.0000   1st Qu.:0.0000   1st Qu.:1.0000   1st Qu.:0.0000   \n",
       " Median :1.0000   Median :1.0000   Median :1.0000   Median :0.0000   \n",
       " Mean   :0.7565   Mean   :0.6343   Mean   :0.8114   Mean   :0.0562   \n",
       " 3rd Qu.:1.0000   3rd Qu.:1.0000   3rd Qu.:1.0000   3rd Qu.:0.0000   \n",
       " Max.   :1.0000   Max.   :1.0000   Max.   :1.0000   Max.   :1.0000   \n",
       " AnyHealthcare     NoDocbcCost         GenHlth         MentHlth     \n",
       " Min.   :0.0000   Min.   :0.00000   Min.   :1.000   Min.   : 0.000  \n",
       " 1st Qu.:1.0000   1st Qu.:0.00000   1st Qu.:2.000   1st Qu.: 0.000  \n",
       " Median :1.0000   Median :0.00000   Median :2.000   Median : 0.000  \n",
       " Mean   :0.9511   Mean   :0.08418   Mean   :2.511   Mean   : 3.185  \n",
       " 3rd Qu.:1.0000   3rd Qu.:0.00000   3rd Qu.:3.000   3rd Qu.: 2.000  \n",
       " Max.   :1.0000   Max.   :1.00000   Max.   :5.000   Max.   :30.000  \n",
       "    PhysHlth         DiffWalk           Sex              Age        \n",
       " Min.   : 0.000   Min.   :0.0000   Min.   :0.0000   Min.   : 1.000  \n",
       " 1st Qu.: 0.000   1st Qu.:0.0000   1st Qu.:0.0000   1st Qu.: 6.000  \n",
       " Median : 0.000   Median :0.0000   Median :0.0000   Median : 8.000  \n",
       " Mean   : 4.242   Mean   :0.1682   Mean   :0.4403   Mean   : 8.032  \n",
       " 3rd Qu.: 3.000   3rd Qu.:0.0000   3rd Qu.:1.0000   3rd Qu.:10.000  \n",
       " Max.   :30.000   Max.   :1.0000   Max.   :1.0000   Max.   :13.000  \n",
       "   Education        Income     \n",
       " Min.   :1.00   Min.   :1.000  \n",
       " 1st Qu.:4.00   1st Qu.:5.000  \n",
       " Median :5.00   Median :7.000  \n",
       " Mean   :5.05   Mean   :6.054  \n",
       " 3rd Qu.:6.00   3rd Qu.:8.000  \n",
       " Max.   :6.00   Max.   :8.000  "
      ]
     },
     "metadata": {},
     "output_type": "display_data"
    }
   ],
   "source": [
    "#summary(diabete_dataset1)\n",
    "#summary(diabete_dataset2)\n",
    "summary(diabete_dataset3)"
   ]
  },
  {
   "cell_type": "code",
   "execution_count": 3,
   "id": "e7ac3a5b",
   "metadata": {
    "execution": {
     "iopub.execute_input": "2023-03-11T12:15:32.297865Z",
     "iopub.status.busy": "2023-03-11T12:15:32.296063Z",
     "iopub.status.idle": "2023-03-11T12:15:33.281486Z",
     "shell.execute_reply": "2023-03-11T12:15:33.279332Z"
    },
    "papermill": {
     "duration": 0.994979,
     "end_time": "2023-03-11T12:15:33.284611",
     "exception": false,
     "start_time": "2023-03-11T12:15:32.289632",
     "status": "completed"
    },
    "tags": [],
    "vscode": {
     "languageId": "r"
    }
   },
   "outputs": [
    {
     "name": "stdout",
     "output_type": "stream",
     "text": [
      " NA value in our dataset : 0 \n",
      "Inf value in our dataset : 0 \n",
      "NA value in our dataset : 0 \n",
      "Inf value in our dataset : 0 \n",
      "NA value in our dataset : 0 \n",
      "Inf value in our dataset : 0"
     ]
    }
   ],
   "source": [
    "library(tidyr)\n",
    "\n",
    "# On vérifie si nous avons des données inexistantes ou infinies dans notre dataset n°1\n",
    "\n",
    "cat(\" NA value in our dataset :\" , sum(is.na(diabete_dataset1)))\n",
    "cat(\" \\nInf value in our dataset :\" , sum(as.integer(as.logical(apply(diabete_dataset1, 2, function(x) any(is.infinite(x)))))))\n",
    "                                                                      \n",
    "# On vérifie si nous avons des données inexistantes ou infinies dans notre dataset n°2\n",
    "\n",
    "cat(\" \\nNA value in our dataset :\" , sum(is.na(diabete_dataset1)))\n",
    "cat(\" \\nInf value in our dataset :\" , sum(as.integer(as.logical(apply(diabete_dataset1, 2, function(x) any(is.infinite(x)))))))\n",
    "                                                                      \n",
    "# On vérifie si nous avons des données inexistantes ou infinies dans notre dataset n°3\n",
    "\n",
    "cat(\" \\nNA value in our dataset :\" , sum(is.na(diabete_dataset1)))\n",
    "cat(\" \\nInf value in our dataset :\" , sum(as.integer(as.logical(apply(diabete_dataset1, 2, function(x) any(is.infinite(x)))))))"
   ]
  },
  {
   "cell_type": "markdown",
   "id": "4db865c8",
   "metadata": {
    "papermill": {
     "duration": 0.005029,
     "end_time": "2023-03-11T12:15:33.295199",
     "exception": false,
     "start_time": "2023-03-11T12:15:33.290170",
     "status": "completed"
    },
    "tags": []
   },
   "source": [
    "On remarque qu'il n'y a aucune données manquante ou infini, nul besoin de retirer des lignes."
   ]
  },
  {
   "cell_type": "code",
   "execution_count": 4,
   "id": "67da1939",
   "metadata": {
    "execution": {
     "iopub.execute_input": "2023-03-11T12:15:33.309053Z",
     "iopub.status.busy": "2023-03-11T12:15:33.307403Z",
     "iopub.status.idle": "2023-03-11T12:15:33.342692Z",
     "shell.execute_reply": "2023-03-11T12:15:33.340671Z"
    },
    "papermill": {
     "duration": 0.044951,
     "end_time": "2023-03-11T12:15:33.345169",
     "exception": false,
     "start_time": "2023-03-11T12:15:33.300218",
     "status": "completed"
    },
    "tags": [],
    "vscode": {
     "languageId": "r"
    }
   },
   "outputs": [
    {
     "name": "stdout",
     "output_type": "stream",
     "text": [
      "'data.frame':\t253680 obs. of  22 variables:\n",
      " $ Diabetes_012        : num  0 0 0 0 0 0 0 0 2 0 ...\n",
      " $ HighBP              : num  1 0 1 1 1 1 1 1 1 0 ...\n",
      " $ HighChol            : num  1 0 1 0 1 1 0 1 1 0 ...\n",
      " $ CholCheck           : num  1 0 1 1 1 1 1 1 1 1 ...\n",
      " $ BMI                 : num  40 25 28 27 24 25 30 25 30 24 ...\n",
      " $ Smoker              : num  1 1 0 0 0 1 1 1 1 0 ...\n",
      " $ Stroke              : num  0 0 0 0 0 0 0 0 0 0 ...\n",
      " $ HeartDiseaseorAttack: num  0 0 0 0 0 0 0 0 1 0 ...\n",
      " $ PhysActivity        : num  0 1 0 1 1 1 0 1 0 0 ...\n",
      " $ Fruits              : num  0 0 1 1 1 1 0 0 1 0 ...\n",
      " $ Veggies             : num  1 0 0 1 1 1 0 1 1 1 ...\n",
      " $ HvyAlcoholConsump   : num  0 0 0 0 0 0 0 0 0 0 ...\n",
      " $ AnyHealthcare       : num  1 0 1 1 1 1 1 1 1 1 ...\n",
      " $ NoDocbcCost         : num  0 1 1 0 0 0 0 0 0 0 ...\n",
      " $ GenHlth             : num  5 3 5 2 2 2 3 3 5 2 ...\n",
      " $ MentHlth            : num  18 0 30 0 3 0 0 0 30 0 ...\n",
      " $ PhysHlth            : num  15 0 30 0 0 2 14 0 30 0 ...\n",
      " $ DiffWalk            : num  1 0 1 0 0 0 0 1 1 0 ...\n",
      " $ Sex                 : num  0 0 0 0 0 1 0 0 0 1 ...\n",
      " $ Age                 : num  9 7 9 11 11 10 9 11 9 8 ...\n",
      " $ Education           : num  4 6 4 3 5 6 6 4 5 4 ...\n",
      " $ Income              : num  3 1 8 6 4 8 7 4 1 3 ...\n",
      "'data.frame':\t70692 obs. of  22 variables:\n",
      " $ Diabetes_binary     : num  0 0 0 0 0 0 0 0 0 0 ...\n",
      " $ HighBP              : num  1 1 0 1 0 0 0 0 0 0 ...\n",
      " $ HighChol            : num  0 1 0 1 0 0 1 0 0 0 ...\n",
      " $ CholCheck           : num  1 1 1 1 1 1 1 1 1 1 ...\n",
      " $ BMI                 : num  26 26 26 28 29 18 26 31 32 27 ...\n",
      " $ Smoker              : num  0 1 0 1 1 0 1 1 0 1 ...\n",
      " $ Stroke              : num  0 1 0 0 0 0 0 0 0 0 ...\n",
      " $ HeartDiseaseorAttack: num  0 0 0 0 0 0 0 0 0 0 ...\n",
      " $ PhysActivity        : num  1 0 1 1 1 1 1 0 1 0 ...\n",
      " $ Fruits              : num  0 1 1 1 1 1 1 1 1 1 ...\n",
      " $ Veggies             : num  1 0 1 1 1 1 1 1 1 1 ...\n",
      " $ HvyAlcoholConsump   : num  0 0 0 0 0 0 1 0 0 0 ...\n",
      " $ AnyHealthcare       : num  1 1 1 1 1 0 1 1 1 1 ...\n",
      " $ NoDocbcCost         : num  0 0 0 0 0 0 0 0 0 0 ...\n",
      " $ GenHlth             : num  3 3 1 3 2 2 1 4 3 3 ...\n",
      " $ MentHlth            : num  5 0 0 0 0 7 0 0 0 0 ...\n",
      " $ PhysHlth            : num  30 0 10 3 0 0 0 0 0 6 ...\n",
      " $ DiffWalk            : num  0 0 0 0 0 0 0 0 0 0 ...\n",
      " $ Sex                 : num  1 1 1 1 0 0 1 1 0 1 ...\n",
      " $ Age                 : num  4 12 13 11 8 1 13 6 3 6 ...\n",
      " $ Education           : num  6 6 6 6 5 4 5 4 6 4 ...\n",
      " $ Income              : num  8 8 8 8 8 7 6 3 8 4 ...\n",
      "'data.frame':\t253680 obs. of  22 variables:\n",
      " $ Diabetes_binary     : num  0 0 0 0 0 0 0 0 1 0 ...\n",
      " $ HighBP              : num  1 0 1 1 1 1 1 1 1 0 ...\n",
      " $ HighChol            : num  1 0 1 0 1 1 0 1 1 0 ...\n",
      " $ CholCheck           : num  1 0 1 1 1 1 1 1 1 1 ...\n",
      " $ BMI                 : num  40 25 28 27 24 25 30 25 30 24 ...\n",
      " $ Smoker              : num  1 1 0 0 0 1 1 1 1 0 ...\n",
      " $ Stroke              : num  0 0 0 0 0 0 0 0 0 0 ...\n",
      " $ HeartDiseaseorAttack: num  0 0 0 0 0 0 0 0 1 0 ...\n",
      " $ PhysActivity        : num  0 1 0 1 1 1 0 1 0 0 ...\n",
      " $ Fruits              : num  0 0 1 1 1 1 0 0 1 0 ...\n",
      " $ Veggies             : num  1 0 0 1 1 1 0 1 1 1 ...\n",
      " $ HvyAlcoholConsump   : num  0 0 0 0 0 0 0 0 0 0 ...\n",
      " $ AnyHealthcare       : num  1 0 1 1 1 1 1 1 1 1 ...\n",
      " $ NoDocbcCost         : num  0 1 1 0 0 0 0 0 0 0 ...\n",
      " $ GenHlth             : num  5 3 5 2 2 2 3 3 5 2 ...\n",
      " $ MentHlth            : num  18 0 30 0 3 0 0 0 30 0 ...\n",
      " $ PhysHlth            : num  15 0 30 0 0 2 14 0 30 0 ...\n",
      " $ DiffWalk            : num  1 0 1 0 0 0 0 1 1 0 ...\n",
      " $ Sex                 : num  0 0 0 0 0 1 0 0 0 1 ...\n",
      " $ Age                 : num  9 7 9 11 11 10 9 11 9 8 ...\n",
      " $ Education           : num  4 6 4 3 5 6 6 4 5 4 ...\n",
      " $ Income              : num  3 1 8 6 4 8 7 4 1 3 ...\n"
     ]
    }
   ],
   "source": [
    "str(diabete_dataset1)\n",
    "str(diabete_dataset2)\n",
    "str(diabete_dataset3)"
   ]
  },
  {
   "cell_type": "markdown",
   "id": "2bfacb77",
   "metadata": {
    "papermill": {
     "duration": 0.005502,
     "end_time": "2023-03-11T12:15:33.356319",
     "exception": false,
     "start_time": "2023-03-11T12:15:33.350817",
     "status": "completed"
    },
    "tags": []
   },
   "source": [
    "Toutes les données sont numériques, nul besoin de convertir quoi que ce soit. De plus, il semblerait logique que les réponses d'un sondage puisse donner des doublons au niveau des lignes, on garde donc les doublons dans nos datasets."
   ]
  },
  {
   "attachments": {},
   "cell_type": "markdown",
   "id": "93c8a553",
   "metadata": {
    "papermill": {
     "duration": 0.005162,
     "end_time": "2023-03-11T12:15:33.366740",
     "exception": false,
     "start_time": "2023-03-11T12:15:33.361578",
     "status": "completed"
    },
    "tags": []
   },
   "source": [
    "#### **Analyse**\n",
    "\n",
    "Pour l'analyse, on ne traitera pas le dataset n°2, puisque nous n'avons pas besoin d'optimiser de calculs ou de mormaliser le dataset (parfait pour le deeplearning, que nous traiterons dans la deuxième partie du challenge)."
   ]
  },
  {
   "attachments": {},
   "cell_type": "markdown",
   "id": "d600b80f",
   "metadata": {
    "papermill": {
     "duration": 0.005233,
     "end_time": "2023-03-11T12:15:33.388479",
     "exception": false,
     "start_time": "2023-03-11T12:15:33.383246",
     "status": "completed"
    },
    "tags": []
   },
   "source": [
    "#### Libraries \n",
    "\n",
    "On importe dans cette section les librairies dont nous aurons besoin pour l'analyse."
   ]
  },
  {
   "cell_type": "code",
   "execution_count": 5,
   "id": "04ca87c4",
   "metadata": {
    "execution": {
     "iopub.execute_input": "2023-03-11T12:15:33.402033Z",
     "iopub.status.busy": "2023-03-11T12:15:33.400636Z",
     "iopub.status.idle": "2023-03-11T12:15:33.412990Z",
     "shell.execute_reply": "2023-03-11T12:15:33.411440Z"
    },
    "papermill": {
     "duration": 0.022227,
     "end_time": "2023-03-11T12:15:33.415893",
     "exception": false,
     "start_time": "2023-03-11T12:15:33.393666",
     "status": "completed"
    },
    "tags": [],
    "vscode": {
     "languageId": "r"
    }
   },
   "outputs": [
    {
     "name": "stderr",
     "output_type": "stream",
     "text": [
      "\n",
      "Attachement du package : 'reshape2'\n",
      "\n",
      "\n",
      "L'objet suivant est masqué depuis 'package:tidyr':\n",
      "\n",
      "    smiths\n",
      "\n",
      "\n",
      "\n",
      "Attachement du package : 'dplyr'\n",
      "\n",
      "\n",
      "Les objets suivants sont masqués depuis 'package:stats':\n",
      "\n",
      "    filter, lag\n",
      "\n",
      "\n",
      "Les objets suivants sont masqués depuis 'package:base':\n",
      "\n",
      "    intersect, setdiff, setequal, union\n",
      "\n",
      "\n"
     ]
    }
   ],
   "source": [
    "#install.packages(\"ggplot2\")\n",
    "#install.packages(\"scales\")\n",
    "#install.packages(\"reshape2\")\n",
    "#install.packages(\"dplyr\")\n",
    "\n",
    "library(ggplot2)\n",
    "library(scales)\n",
    "library(reshape2)\n",
    "library(dplyr)"
   ]
  },
  {
   "attachments": {},
   "cell_type": "markdown",
   "id": "831422bc",
   "metadata": {},
   "source": [
    "#### Graphiques\n",
    "\n",
    "Puisque nous allons réutiliser plusieurs fois certains types graphiques, nous les plaçons dans des fonctions : "
   ]
  },
  {
   "cell_type": "code",
   "execution_count": 6,
   "id": "13bd2df3",
   "metadata": {
    "vscode": {
     "languageId": "r"
    }
   },
   "outputs": [],
   "source": [
    "# Graphiques en barres horizontal montrant les proportions de la variables va pour \n",
    "# en fonction du statut de diabète de la personne \n",
    "graph_horizontal_bars_diabete <- function(df, diabete, var) {\n",
    "    namefile = # Générer un numéro aléatoire\n",
    "    random_number <- round(runif(1, min=1000, max=9999))\n",
    "\n",
    "    # Ajouter l'extension \".png\" à la fin\n",
    "    file_name <- paste0(random_number, \".png\")\n",
    "\n",
    "    # Afficher le nom du fichier\n",
    "    print(file_name)\n",
    "\n",
    "    png(file_name)\n",
    "\n",
    "    # Define colors as a constant vector\n",
    "    colors <- c('#ff5809', '#1E88E5')\n",
    "  \n",
    "    # Use `table()` to calculate contingency table\n",
    "    table <- table(df[[diabete]], df[[var]])\n",
    "  \n",
    "    # Sum the rows of the contingency table\n",
    "    sum_table <- rowSums(table)\n",
    "  \n",
    "    # Calculate the percentage table by dividing each cell by its row sum\n",
    "    var_count <- table/sum_table\n",
    "  \n",
    "    # Reverse the order of the columns in the percentage table\n",
    "    var_count <- var_count[, ncol(var_count):1]\n",
    "  \n",
    "    # Printing the name of the dataframe\n",
    "    #print(colnames(df)[1])\n",
    "    \n",
    "    # Making some arangements\n",
    "    if (colnames(df)[1] == \"Diabetes_012\") {\n",
    "        names <- c(\"Non-Diabetic\", \"Pre-Diabetic\", \"Diabetic\")\n",
    "    }\n",
    "    else {\n",
    "        names <- c(\"Non-Diabetic\", \"Diabetic\")\n",
    "    }\n",
    "    \n",
    "    # Use `barplot()` to create a stacked bar chart\n",
    "    # Add descriptive labels to the chart\n",
    "    # Use `barplot()` to create a stacked bar chart\n",
    "    # Add descriptive labels and percentage values to the chart\n",
    "    bp <- barplot(t(as.matrix(var_count)), # Transpose for having the column sum equal to 1\n",
    "        horiz = TRUE, \n",
    "        col = colors, \n",
    "        xlim = c(0,1), \n",
    "        xlab = \"Percentage\", \n",
    "        ylab = \"\", \n",
    "        main = paste(\"Percentage of\", var, \"by\",diabete,\"status\"), \n",
    "        names.arg = names, \n",
    "        legend = TRUE,\n",
    "        args.legend = list(title=\"Réponses\", box.col = \"black\", bg = \"white\", legend=c(\"Oui\", \"Non\")))\n",
    "    \n",
    "    #print(var_count)\n",
    "    # Add percentage values to the right side of the chart using the `text()` function\n",
    "    par(mar = c(5, 7, 4, 2) + 0.1) # Increase the right margin to create more space for the labels\n",
    "    text(x = var_count[,1] , y = bp, labels = paste0(round(var_count[,1]*100),\"%\"), col = \"white\", pos = 2)\n",
    "    dev.off()\n",
    "\n",
    "}\n",
    "\n",
    "\n",
    "# Fonction qui affiche des camembert :\n",
    "graph_pie <- function(data, variable) {\n",
    "  png(\"camembert.png\")\n",
    "  # Calculer les fréquences de chaque valeur de la variable\n",
    "  freq <- table(data[[variable]])\n",
    "  \n",
    "  # Calculer les pourcentages correspondants\n",
    "  percent <- round(prop.table(freq) * 100, 1)\n",
    "  \n",
    "  # Tracer le camembert avec les pourcentages\n",
    "  pie(freq, \n",
    "    main = paste(\"Fréquences de\", variable), \n",
    "    labels = paste(names(freq), \" (\", percent, \"%)\", sep = \"\"),\n",
    "    col = rainbow(length(freq)))\n",
    "  dev.off()\n",
    "}\n",
    "\n",
    "# Fonction qui affiche la correlation map du dataframe passé en paramètre :\n",
    "correlation_map <- function(df) {\n",
    "    # Set up the data and colormap\n",
    "    data_heatmap <- df\n",
    "    custom_cmap <- colorRampPalette(c('#011b7a', 'white', '#850505'))(100)\n",
    "\n",
    "    # Create a correlation matrix\n",
    "    corr_matrix <- cor(data_heatmap)\n",
    "\n",
    "    # Create a mask to hide the upper triangle of the matrix\n",
    "    mask <- upper.tri(corr_matrix)\n",
    "\n",
    "    # Melt the matrix into a data frame\n",
    "    corr_df <- melt(corr_matrix)\n",
    "\n",
    "    # Create the heatmap plot\n",
    "    ggplot(corr_df, aes(x = Var1, y = Var2, fill = value)) +\n",
    "      geom_tile(aes(width = 1, height = 1), color = \"white\", alpha = 0.8) +\n",
    "      scale_fill_gradientn(colors = custom_cmap, limits = c(-0.8, 0.8)) +\n",
    "      theme_minimal() +\n",
    "      theme(axis.text.x = element_text(angle = 45, hjust = 1, size = 15),\n",
    "            axis.text.y = element_text(size = 15),\n",
    "            axis.title = element_blank(),\n",
    "            legend.position = \"none\") +\n",
    "      labs(title = \"Correlation Heatmap\", subtitle = \"\", x = \"\", y = \"\") +\n",
    "      coord_fixed() +\n",
    "      guides(fill = guide_colorbar(barwidth = 25, barheight = 0.5, \n",
    "                                   title.position = \"top\", title.vjust = 0.5, \n",
    "                                   label.theme = element_text(size = 15)))\n",
    "    ggsave(\"./images/Correlation_map.png\", width = 14, height = 8, dpi = 600, bg = \"white\")\n",
    "}"
   ]
  },
  {
   "attachments": {},
   "cell_type": "markdown",
   "id": "e8f6764d",
   "metadata": {},
   "source": [
    "#### Suppression de variable\n",
    "\n",
    "Avant de commencer à analyser, nous aimerions retirer du dataset toutes les personnes qui n'ont pas vérifier leur cholesterole depuis plus de 5 ans, puisqu'ils peuvent fausser les données du cholesterole."
   ]
  },
  {
   "cell_type": "code",
   "execution_count": 7,
   "id": "ac72fe8c",
   "metadata": {
    "vscode": {
     "languageId": "r"
    }
   },
   "outputs": [
    {
     "name": "stdout",
     "output_type": "stream",
     "text": [
      "'data.frame':\t244210 obs. of  21 variables:\n",
      " $ Diabetes_binary     : num  0 0 0 0 0 0 0 1 0 1 ...\n",
      " $ HighBP              : num  1 1 1 1 1 1 1 1 0 0 ...\n",
      " $ HighChol            : num  1 1 0 1 1 0 1 1 0 0 ...\n",
      " $ BMI                 : num  40 28 27 24 25 30 25 30 24 25 ...\n",
      " $ Smoker              : num  1 0 0 0 1 1 1 1 0 1 ...\n",
      " $ Stroke              : num  0 0 0 0 0 0 0 0 0 0 ...\n",
      " $ HeartDiseaseorAttack: num  0 0 0 0 0 0 0 1 0 0 ...\n",
      " $ PhysActivity        : num  0 0 1 1 1 0 1 0 0 1 ...\n",
      " $ Fruits              : num  0 1 1 1 1 0 0 1 0 1 ...\n",
      " $ Veggies             : num  1 0 1 1 1 0 1 1 1 1 ...\n",
      " $ HvyAlcoholConsump   : num  0 0 0 0 0 0 0 0 0 0 ...\n",
      " $ AnyHealthcare       : num  1 1 1 1 1 1 1 1 1 1 ...\n",
      " $ NoDocbcCost         : num  0 1 0 0 0 0 0 0 0 0 ...\n",
      " $ GenHlth             : num  5 5 2 2 2 3 3 5 2 3 ...\n",
      " $ MentHlth            : num  18 30 0 3 0 0 0 30 0 0 ...\n",
      " $ PhysHlth            : num  15 30 0 0 2 14 0 30 0 0 ...\n",
      " $ DiffWalk            : num  1 1 0 0 0 0 1 1 0 0 ...\n",
      " $ Sex                 : num  0 0 0 0 1 0 0 0 1 1 ...\n",
      " $ Age                 : num  9 9 11 11 10 9 11 9 8 13 ...\n",
      " $ Education           : num  4 4 3 5 6 6 4 5 4 6 ...\n",
      " $ Income              : num  3 8 6 4 8 7 4 1 3 8 ...\n"
     ]
    },
    {
     "data": {
      "text/html": [
       "<strong>png:</strong> 2"
      ],
      "text/latex": [
       "\\textbf{png:} 2"
      ],
      "text/markdown": [
       "**png:** 2"
      ],
      "text/plain": [
       "png \n",
       "  2 "
      ]
     },
     "metadata": {},
     "output_type": "display_data"
    }
   ],
   "source": [
    "# On choisis l'enemble des individus qui on vérifier leur cholesterole depuis moins de 5 ans\n",
    "diabete_dataset1_wcc <- diabete_dataset1[diabete_dataset1$CholCheck == 1,]\n",
    "diabete_dataset3_wcc <- diabete_dataset3[diabete_dataset3$CholCheck == 1,]\n",
    "\n",
    "# On retire cette colonne puisqu'elle n'à plus que des valeurs égales à 1\n",
    "diabete_dataset1_wcc <- diabete_dataset1_wcc %>% select(-c(CholCheck))\n",
    "#str(diabete_dataset1_wcc)\n",
    "diabete_dataset3_wcc <- diabete_dataset3_wcc %>% select(-c(CholCheck))\n",
    "str(diabete_dataset3_wcc)\n",
    "graph_pie(diabete_dataset2, \"Diabetes_binary\")"
   ]
  },
  {
   "attachments": {},
   "cell_type": "markdown",
   "id": "ffe0af3e",
   "metadata": {
    "papermill": {
     "duration": 0.005156,
     "end_time": "2023-03-11T12:15:33.426360",
     "exception": false,
     "start_time": "2023-03-11T12:15:33.421204",
     "status": "completed"
    },
    "tags": []
   },
   "source": [
    "#### *Quels sont les facteurs de risque les plus prédictifs du risque de développement du diabète ?* \n",
    "\n",
    "#### Pré-diabétiques\n",
    "\n",
    "On sait que nos trois dataset n'ont pas exactement les même paramètres. Il serait intéressant d'analyser l'imapct des variables sur la différenciation entre sain et prédiabétique, et entre prédiabétique et diabétique. En effet, les prédiabétiques peuvent changer de comportement une fois leur diabète développé.\n",
    "\n",
    "Obervons d'abord les différences notables de comportements ou de conditions physiques (puisque ce sont les seules qui peuvent réellement évoluer entre les différents stade de diabètes). Les variables de comportement qui pourraient changer seraient HighBP, HighChol, BMI, PhysActivity, Fruits, Veggies, HvyAlcoholConsump, DiffWalk"
   ]
  },
  {
   "cell_type": "code",
   "execution_count": 8,
   "id": "2d9b98b6",
   "metadata": {
    "vscode": {
     "languageId": "r"
    }
   },
   "outputs": [
    {
     "name": "stdout",
     "output_type": "stream",
     "text": [
      "[1] \"7953.png\"\n"
     ]
    },
    {
     "data": {
      "text/html": [
       "<strong>png:</strong> 2"
      ],
      "text/latex": [
       "\\textbf{png:} 2"
      ],
      "text/markdown": [
       "**png:** 2"
      ],
      "text/plain": [
       "png \n",
       "  2 "
      ]
     },
     "metadata": {},
     "output_type": "display_data"
    },
    {
     "name": "stdout",
     "output_type": "stream",
     "text": [
      "[1] \"5699.png\"\n"
     ]
    },
    {
     "data": {
      "text/html": [
       "<strong>png:</strong> 2"
      ],
      "text/latex": [
       "\\textbf{png:} 2"
      ],
      "text/markdown": [
       "**png:** 2"
      ],
      "text/plain": [
       "png \n",
       "  2 "
      ]
     },
     "metadata": {},
     "output_type": "display_data"
    },
    {
     "ename": "",
     "evalue": "",
     "output_type": "error",
     "traceback": [
      "\u001b[1;31mCanceled future for execute_request message before replies were done"
     ]
    },
    {
     "ename": "",
     "evalue": "",
     "output_type": "error",
     "traceback": [
      "\u001b[1;31mThe Kernel crashed while executing code in the the current cell or a previous cell. Please review the code in the cell(s) to identify a possible cause of the failure. Click <a href='https://aka.ms/vscodeJupyterKernelCrash'>here</a> for more info. View Jupyter <a href='command:jupyter.viewOutput'>log</a> for further details."
     ]
    }
   ],
   "source": [
    "ratio <- 6\n",
    "options(repr.plot.width = ratio*1.6, repr.plot.height = ratio)\n",
    "\n",
    "graph_horizontal_bars_diabete(diabete_dataset1_wcc, \"Diabetes_012\", \"HighBP\")\n",
    "graph_horizontal_bars_diabete(diabete_dataset1_wcc, \"Diabetes_012\", \"HighChol\")\n",
    "graph_horizontal_bars_diabete(diabete_dataset1_wcc, \"Diabetes_012\", \"PhysActivity\")\n",
    "graph_horizontal_bars_diabete(diabete_dataset1_wcc, \"Diabetes_012\", \"Fruits\")\n",
    "graph_horizontal_bars_diabete(diabete_dataset1_wcc, \"Diabetes_012\", \"Veggies\")\n",
    "graph_horizontal_bars_diabete(diabete_dataset1_wcc, \"Diabetes_012\", \"HvyAlcoholConsump\")\n",
    "graph_horizontal_bars_diabete(diabete_dataset1_wcc, \"Diabetes_012\", \"DiffWalk\")"
   ]
  },
  {
   "attachments": {},
   "cell_type": "markdown",
   "id": "f13c9900",
   "metadata": {
    "vscode": {
     "languageId": "r"
    }
   },
   "source": [
    "En observant les graphiques précédents, on se rend compte qu'il n'y a pas de réelles différences de proportions de comportement entre les pré-diabétiques et les diabétiques. \n",
    "\n",
    "Pour les variables veggies et fruits, on se rend compte que la différence est presque nulle (moins d'1 % de différence). On ne voit d'ailleurs presque aucune différence avec les personnes saines non plus (moins de 5% entre les deux catégories). Sachant que le diabète vient d'un dérèglement de l'insuline, une hormone régulatrice de la glycémie, on aurait dû voir une différence de consommation des fruits et légumes entre les différentes catégories (on rappelle que le diabète est l'un des fléau des USAs, tristesse célèbre pour avoir l'alimentation la moins saine possible). Cette différence vient sans doute de la manière dont la question a été posée (il semblerait logique de poser la question comme suit : \"pensez-vous manger 5 fruits et légumes par jour ?\", comme recommandé en France). \n",
    "\n",
    "Pour les variables DiffWalk et PhysActivity, la différence s'intensifie. Moins de diabétiques semblent faire d'activité physique (66% des prédiabétiques semblent affirmer avoir fait du sport dans les 30 derniers jour contre 83%) et plus de diabétiques ont de mal à marcher (37% des diabétiques disent avoir du mal à marcher, contre 28% pour les prédiabétiques). Dans tous les cas, les personnes saines présentent une condition physique en générale meilleur (ils font en général plus de sport (78%) et moins ont du mal à marcher (13% ont du mal)).\n",
    "\n",
    "Pour les variables de santé physique interne HighBP et HighChol, on remarque aussi des différences accentuées entre les deux : il semble qu'une proportion plus important de diabétique présente une haute pression sanguine (75%) et un haut taux de cholestérol (67%) comparé aux prédiabétiques (respectivement 63% et 62%). Dans les deux cas, les proportions sont bien plus importantes que pour les personnes saines (respectivement 38 et 39%).\n",
    "\n",
    "Avant de donner nos conclusions par rapport aux deux paragraphes écrit précédemment, on regarde la variable BMI :"
   ]
  },
  {
   "cell_type": "code",
   "execution_count": null,
   "id": "4ed2fe18",
   "metadata": {
    "vscode": {
     "languageId": "r"
    }
   },
   "outputs": [
    {
     "name": "stdout",
     "output_type": "stream",
     "text": [
      "Moyenne des BMI des sondés étant diabétiques :  31.9485\n",
      "Variance des BMI des sondés étant diabétiques :  54.2249\n",
      "Moyenne des BMI des sondés étant pré-diabétiques :  30.72992\n",
      "Variance des BMI des sondés étant pré-diabétiques :  47.68974\n",
      "Moyenne des BMI des sondés étant sains :  27.77146\n",
      "Variance des BMI des sondés étant sains :  39.25788"
     ]
    }
   ],
   "source": [
    "# IMC moyen du nombre de personnes ayant un diabète (2)\n",
    "cat(\"Moyenne des BMI des sondés étant diabétiques : \", mean(diabete_dataset1_wcc$BMI[diabete_dataset1_wcc$Diabetes_012 == 2]))\n",
    "# Variance de l'IMC du nombre de personnes ayant un diabète (2)\n",
    "cat(\"\\nVariance des BMI des sondés étant diabétiques : \", var(diabete_dataset1_wcc$BMI[diabete_dataset1_wcc$Diabetes_012 == 2]))\n",
    "\n",
    "# IMC moyen du nombre de personnes ayant un pré-diabète (1)\n",
    "cat(\"\\nMoyenne des BMI des sondés étant pré-diabétiques : \", mean(diabete_dataset1_wcc$BMI[diabete_dataset1_wcc$Diabetes_012 == 1]))\n",
    "# Variance de l'IMC du nombre de personnes ayant un pré-diabète (1)\n",
    "cat(\"\\nVariance des BMI des sondés étant pré-diabétiques : \", var(diabete_dataset1_wcc$BMI[diabete_dataset1_wcc$Diabetes_012 == 1]))\n",
    "\n",
    "# IMC moyen du nombre de personnes n'ayant pas de diabète (0)\n",
    "cat(\"\\nMoyenne des BMI des sondés étant sains : \", mean(diabete_dataset1_wcc$BMI[diabete_dataset1_wcc$Diabetes_012 == 0]))\n",
    "# Variance de l'IMC du nombre de personnes n'ayant pas de diabète (0)\n",
    "cat(\"\\nVariance des BMI des sondés étant sains : \", var(diabete_dataset1_wcc$BMI[diabete_dataset1_wcc$Diabetes_012 == 0]))"
   ]
  },
  {
   "attachments": {},
   "cell_type": "markdown",
   "id": "5fc285d9",
   "metadata": {},
   "source": [
    "On se rend compte qu'en moyenne, l'IMC des personnes diabétiques et pré-diabétiques est plus élevé (31,95 et 30,72, résultats relativement proche l'un de l'autre) que celui des personnes saines (27.7). De plus, leur variance est aussi beaucoup plus élevé.\n",
    "\n",
    "En conclusion (on ne concluera ici que sur l'intérêt de garder les prédiabétiques pour l'analyse), on se rend compte qu'il ne font réellement que l'intermédiaire entre les diabétiques et les personnes saines. Leur intérêt est donc limité puisqu'ils ne montrent aucuns changement de mode de vie ou de mode de consommation alimentaires. L'intéret d'avoir une section prédiabétique aurait sans doute été plus intéressante avec des questions mieux posées ou plus orienté sur du comportement individuel. De plus, leur faible présence (seulement 1.9%) dans le dataset les rends négligeable par rapport aux autres (97,7% en cumulé)."
   ]
  },
  {
   "cell_type": "code",
   "execution_count": null,
   "id": "083e579a",
   "metadata": {
    "vscode": {
     "languageId": "r"
    }
   },
   "outputs": [
    {
     "data": {
      "text/html": [
       "<strong>png:</strong> 2"
      ],
      "text/latex": [
       "\\textbf{png:} 2"
      ],
      "text/markdown": [
       "**png:** 2"
      ],
      "text/plain": [
       "png \n",
       "  2 "
      ]
     },
     "metadata": {},
     "output_type": "display_data"
    }
   ],
   "source": [
    "graph_pie(diabete_dataset1_wcc, \"Diabetes_012\")"
   ]
  },
  {
   "attachments": {},
   "cell_type": "markdown",
   "id": "7199eaf7",
   "metadata": {},
   "source": [
    "#### **Sains - Diabétique**\n",
    "\n",
    "Comme dit précédemment, on se focalise maintenant sur le ```dataset numéro 3```, ne considérant plus les pré-diabétiques. On part dorénavant sur une analyse détaillée de l'impact dee toutes les variables sur la différenciation sain-diabétique, notamment les variables financières. \n",
    "\n",
    "En effet, le système de santé américain est fait de telle sorte que les soins coûtes chères et jouent donc un rôle important chez eux sur le développement de certaines pathologies.\n",
    "\n",
    "#### Relation entre les variables\n",
    "\n",
    "Pour comprendre le lien qui relie les variables (qui est corrélé avec qui), on se sert de la correlation map :\n"
   ]
  },
  {
   "cell_type": "code",
   "execution_count": null,
   "id": "8ea16be3",
   "metadata": {
    "vscode": {
     "languageId": "r"
    }
   },
   "outputs": [],
   "source": [
    "correlation_map(diabete_dataset3_wcc)"
   ]
  },
  {
   "attachments": {},
   "cell_type": "markdown",
   "id": "7dca6218",
   "metadata": {},
   "source": [
    "On se concentre sur les variables dont le taux de corrélation est élevé :\n",
    "\n",
    "**Corrélation positive :**\n",
    "\n",
    "Les variables GenHlth, PhysHlth et DiffWalk sont les trois variables les plus corrélées positivement dans notre dataset. Il semblerait donc que la la difficulté à marcher soit une composante de la mesure de la santé physique et de la santé générale. De même, il semblemerait que la santé physique fasse partie de la mesure de la santé générale.\n",
    "Les variables Education et Income semblent aussi être fortement corrélé, indiquant sûrement un lien entre le niveau d'éducation et le salaire d'un individu (ce qui de chez nous semble logique, mais qui l'est moins au USA en raison du fait que les entrepreneurs sont les plus riches mais pas forcément les plus éduqués).\n",
    "\n",
    "**Corrélation négative :**\n",
    "\n",
    "Les deux variables les plus corrélées négativement sont GenHlth et Income (évidemment DiffWalk mais elle à une corrélation positive avec GenHlth). Cela laisse à penser que les gens les moins fortunés, ayant une plus grande difficulté d'accés aux soins, sont donc les gens avec les moins bonnes santés générales.\n",
    "On peut aussi observer une corrélation négatve importante entre la variable PhysActivity et les variables PhysHlth, GenHlth et DiffWalk. En effet, il semble logique de penser que plus la santé physique ou la santé générale d'un individu est mauvaise ou plus l'individu à du mal a marcher, plus son activité physique diminue.\n",
    "\n",
    "\n",
    "**Corrélation ciblée**\n",
    "\n",
    "Cependant, ce qui nous intéresse en premier lieu, c'est la corrélation que les variables de notre table ont avec la variable Diabetes_binary. On va donc s'intéresser à la corrélation de nos variables sur celle-ci :"
   ]
  },
  {
   "cell_type": "code",
   "execution_count": null,
   "id": "7305ae12",
   "metadata": {
    "vscode": {
     "languageId": "r"
    }
   },
   "outputs": [
    {
     "data": {
      "image/png": "[encoded data removed]",
      "text/plain": [
       "plot without title"
      ]
     },
     "metadata": {
      "image/png": {
       "height": 600,
       "width": 960
      }
     },
     "output_type": "display_data"
    }
   ],
   "source": [
    "Diabetes_binary_Corr <- diabete_dataset3_wcc %>% \n",
    "  select(-Diabetes_binary) %>% \n",
    "  cor(., diabete_dataset3_wcc$Diabetes_binary) %>% \n",
    "  as.data.frame() %>% \n",
    "  arrange(desc(V1)) %>% \n",
    "  ggplot(aes(x = reorder(row.names(.), -V1), y = V1)) + \n",
    "  geom_bar(stat=\"identity\", fill=\"blue\", alpha=0.8, width=0.5) +\n",
    "  labs(x = \"Variable\", y = \"Corrélation avec Diabetes_binary\", title = \"Diabetes_binary Correlation\") +\n",
    "  theme(axis.text.x = element_text(angle = 45, hjust = 1, size = 15),\n",
    "        panel.border = element_blank(), panel.grid.minor = element_blank(),\n",
    "        panel.grid.major.x = element_blank(), axis.line = element_line(colour = \"black\"))\n",
    "\n",
    "# Add the hlines\n",
    "Diabetes_binary_Corr <- Diabetes_binary_Corr + geom_hline(yintercept = 0.075, linetype = \"dashed\", color = \"red\", linewidth = 1) +\n",
    "  geom_hline(yintercept = -0.075, linetype = \"dashed\", color = \"red\", linewidth = 1)\n",
    "  ggsave(\"./images/Correlation_barplot.png\", width = 14, height = 8, dpi = 600)\n",
    "\n",
    "Diabetes_binary_Corr"
   ]
  },
  {
   "attachments": {},
   "cell_type": "markdown",
   "id": "65ccafce",
   "metadata": {},
   "source": [
    "Les lignes en rouges pointillés ont été choisies arbitrairement, placée à une corrélation absolue de 0.075. On considèrera que dans un intervalle [-0.075, 0.075], la corrélation est très faible. \n",
    "\n",
    "**Corrélation forte**\n",
    "\n",
    "Les variables les plus fortement corrélées positivement avec Diabetes_binary sont:\n",
    "- GenHlth\n",
    "- HighBP\n",
    "- BMI\n",
    "- DiffWalk\n",
    "- HighChol\n",
    "- HeartDiseaseorAttack\n",
    "- Age\n",
    "- PhysHlth\n",
    "\n",
    "Les variables les plus fortement corrélées négativemet avec Diabetes_binary sont:\n",
    "- PhysActivity\n",
    "- Education\n",
    "- Income\n",
    "\n",
    "MentHlth GenHlth, BMI Age PhysHlth Education Income Veggies Fruits\n",
    " \n",
    "**Corrélation faible**\n",
    "\n",
    "Les variables les moins fortement corrélées positivement avec Diabetes_binary sont:\n",
    "- MentHlth\n",
    "- Smoker\n",
    "- Sex\n",
    "- AnyElsecare\n",
    "\n",
    "Les variables les moins fortement corrélées négativement avec Diabetes_binary sont:\n",
    "- Veggies\n",
    "- HvyAlcoholConsump\n",
    "- Fruits\n",
    "\n",
    "\n",
    "On s'attardera donc beaucoup plus sur les variables corrélées fortement au diabète que les autres, étant données qu'elles engendrent les plus grosses variations.\n"
   ]
  },
  {
   "attachments": {},
   "cell_type": "markdown",
   "id": "5a786c55",
   "metadata": {},
   "source": [
    "##### **a - Comorbidité**\n",
    "\n",
    "Dans cette partie, on se foncalise sur l'étude des variables HighBP, HighChol et HeartDiseaseorAttack.\n",
    "\n",
    "##### **HighBP**"
   ]
  },
  {
   "cell_type": "code",
   "execution_count": null,
   "id": "fcf07f12",
   "metadata": {
    "vscode": {
     "languageId": "r"
    }
   },
   "outputs": [
    {
     "name": "stdout",
     "output_type": "stream",
     "text": [
      "\n",
      "Pourcentage des personnes ayant une haute pression sanguine et n'ayant pas de diabète :  38.56914\n",
      "Pourcentage des personnes ayant une haute pression sanguine et ayant un diabète :  75.37673"
     ]
    },
    {
     "data": {
      "image/png": "[encoded data removed]",
      "text/plain": [
       "Plot with title \"Percentage of HighBP by Diabetes_binary status\""
      ]
     },
     "metadata": {
      "image/png": {
       "height": 360,
       "width": 576
      }
     },
     "output_type": "display_data"
    }
   ],
   "source": [
    "ratio <- 6\n",
    "options(repr.plot.width = ratio*1.6, repr.plot.height = ratio)\n",
    "\n",
    "graph_horizontal_bars_diabete(diabete_dataset3_wcc, \"Diabetes_binary\", \"HighBP\")\n",
    "\n",
    "# Pourcentage des personnes ayant une haute pression sanguine et n'ayant pas de diabète (0)\n",
    "cat(\"\\nPourcentage des personnes ayant une haute pression sanguine et n'ayant pas de diabète : \", mean(diabete_dataset3_wcc$HighBP[diabete_dataset3_wcc$Diabetes_binary == 0]*100))\n",
    "# Pourcentage des personnes ayant une haute pression sanguine et ayant un diabète (1)\n",
    "cat(\"\\nPourcentage des personnes ayant une haute pression sanguine et ayant un diabète : \", mean(diabete_dataset3_wcc$HighBP[diabete_dataset3_wcc$Diabetes_binary == 1]*100))"
   ]
  },
  {
   "attachments": {},
   "cell_type": "markdown",
   "id": "eeef0ed4",
   "metadata": {},
   "source": [
    "On remarque que la proportion de diabétique ayant une pression sanguine élevée est bien plus importante (75%) que pour les non diabétique (39%). Cette proportion est si élevée en raison du fait que les personnes atteintes de diabètes ont plus de chance de développer un diabète et inversement, les personnes atteintes de diabètes ont plus de chance de développer une hypertension arterielle."
   ]
  },
  {
   "attachments": {},
   "cell_type": "markdown",
   "id": "b00d6a3b",
   "metadata": {},
   "source": [
    "##### **HighChol**"
   ]
  },
  {
   "cell_type": "code",
   "execution_count": null,
   "id": "0892a752",
   "metadata": {
    "vscode": {
     "languageId": "r"
    }
   },
   "outputs": [
    {
     "name": "stdout",
     "output_type": "stream",
     "text": [
      "\n",
      "Pourcentage des personnes ayant un haut taux de cholesterole et n'ayant pas de diabète :  39.24296\n",
      "Pourcentage des personnes ayant un haut taux de cholesterole et ayant un diabète :  67.08731"
     ]
    },
    {
     "data": {
      "image/png": "[encoded data removed]",
      "text/plain": [
       "Plot with title \"Percentage of HighChol by Diabetes_binary status\""
      ]
     },
     "metadata": {
      "image/png": {
       "height": 360,
       "width": 576
      }
     },
     "output_type": "display_data"
    }
   ],
   "source": [
    "graph_horizontal_bars_diabete(diabete_dataset3_wcc, \"Diabetes_binary\", \"HighChol\")\n",
    "\n",
    "# Pourcentage des personnes ayant un haut taux de cholesterole et n'ayant pas de diabète (0)\n",
    "cat(\"\\nPourcentage des personnes ayant un haut taux de cholesterole et n'ayant pas de diabète : \", mean(diabete_dataset3_wcc$HighChol[diabete_dataset3_wcc$Diabetes_binary == 0]*100))\n",
    "# Pourcentage des personnes ayant une haute pression sanguine et ayant un diabète (1)\n",
    "cat(\"\\nPourcentage des personnes ayant un haut taux de cholesterole et ayant un diabète : \", mean(diabete_dataset3_wcc$HighChol[diabete_dataset3_wcc$Diabetes_binary == 1]*100))"
   ]
  },
  {
   "attachments": {},
   "cell_type": "markdown",
   "id": "3e1b465a",
   "metadata": {},
   "source": [
    "On remarque que la proportion de diabétique ayant un taux de cholesterole élevé est bien plus importante (67%) que pour les non diabétique (39%).\n",
    "On peut expliquer ce phénomène car le diabète à tendance à réduire le taux de bon cholestérole et à augmenter le taux de mauvais cholestérole."
   ]
  },
  {
   "attachments": {},
   "cell_type": "markdown",
   "id": "9100eae7",
   "metadata": {},
   "source": [
    "##### **HeartDiseaseorAttack**"
   ]
  },
  {
   "cell_type": "code",
   "execution_count": null,
   "id": "6683afa8",
   "metadata": {
    "vscode": {
     "languageId": "r"
    }
   },
   "outputs": [
    {
     "name": "stdout",
     "output_type": "stream",
     "text": [
      "\n",
      "Pourcentage des personnes ayant des problèmes cariaques et n'ayant pas de diabète :  7.5541\n",
      "Pourcentage des personnes ayant des problèmes cariaques et ayant un diabète :  22.29312"
     ]
    },
    {
     "data": {
      "image/png": "[encoded data removed]",
      "text/plain": [
       "Plot with title \"Percentage of HeartDiseaseorAttack by Diabetes_binary status\""
      ]
     },
     "metadata": {
      "image/png": {
       "height": 360,
       "width": 576
      }
     },
     "output_type": "display_data"
    }
   ],
   "source": [
    "graph_horizontal_bars_diabete(diabete_dataset3_wcc, \"Diabetes_binary\", \"HeartDiseaseorAttack\")\n",
    "\n",
    "# Pourcentage des personnes ayant des problèmes cariaques et n'ayant pas de diabète (0)\n",
    "cat(\"\\nPourcentage des personnes ayant des problèmes cariaques et n'ayant pas de diabète : \", mean(diabete_dataset3_wcc$HeartDiseaseorAttack[diabete_dataset3_wcc$Diabetes_binary == 0]*100))\n",
    "# Pourcentage des personnes ayant des problèmes cariaques  et ayant un diabète (1)\n",
    "cat(\"\\nPourcentage des personnes ayant des problèmes cariaques et ayant un diabète : \", mean(diabete_dataset3_wcc$HeartDiseaseorAttack[diabete_dataset3_wcc$Diabetes_binary == 1]*100))"
   ]
  },
  {
   "attachments": {},
   "cell_type": "markdown",
   "id": "a521c334",
   "metadata": {},
   "source": [
    "On remarque que la proportion de diabétique ayant des maladies cario-vasculaire ou fait des arrêts cardiauqes est plus importante (22%) que pour les non diabétique (8%).\n",
    "Cela peut s'expliquer facilement avec les variables au dessus : une plus forte pression artérielle à plus de chance de mener vers des problèmes cardio-vasculaires.\n"
   ]
  },
  {
   "attachments": {},
   "cell_type": "markdown",
   "id": "29030662",
   "metadata": {},
   "source": [
    "##### **b - Retour sur l'IMC**\n",
    "\n",
    "Pour reprendre l'analyse précédente, on observe certaines différences en observant les IMC des diabétiques et non-diabétiques :"
   ]
  },
  {
   "cell_type": "code",
   "execution_count": null,
   "id": "183e8309",
   "metadata": {
    "vscode": {
     "languageId": "r"
    }
   },
   "outputs": [
    {
     "name": "stdout",
     "output_type": "stream",
     "text": [
      "Différence entre l'IMC moyen des personnes ayant un diabète et des personnes saines :  4.112396\n",
      "Variance des IMC des sondés étant diabétiques :  54.2249\n",
      "Variance des IMC des sondés étant sains :  39.62895"
     ]
    }
   ],
   "source": [
    "# Différence entre l'IMC moyen du nombre de personnes ayant un diabète (1) et l'IMC moyen du nombre de personnes n'ayant pas de diabète (0)\n",
    "cat(\"Différence entre l'IMC moyen des personnes ayant un diabète et des personnes saines : \", mean(diabete_dataset3_wcc$BMI[diabete_dataset3_wcc$Diabetes_binary == 1]) - mean(diabete_dataset3_wcc$BMI[diabete_dataset3_wcc$Diabetes_binary == 0]))\n",
    "\n",
    "# Variance de l'IMC du nombre de personnes ayant un diabète (1)\n",
    "cat(\"\\nVariance des IMC des sondés étant diabétiques : \", var(diabete_dataset3_wcc$BMI[diabete_dataset3_wcc$Diabetes_binary == 1]))\n",
    "# Variance de l'IMC du nombre de personnes n'ayant pas de diabète (0)\n",
    "cat(\"\\nVariance des IMC des sondés étant sains : \", var(diabete_dataset3_wcc$BMI[diabete_dataset3_wcc$Diabetes_binary == 0]))"
   ]
  },
  {
   "cell_type": "code",
   "execution_count": null,
   "id": "f369e9ed",
   "metadata": {
    "vscode": {
     "languageId": "r"
    }
   },
   "outputs": [
    {
     "data": {
      "image/png": "[encoded data removed]",
      "text/plain": [
       "plot without title"
      ]
     },
     "metadata": {
      "image/png": {
       "height": 600,
       "width": 960
      }
     },
     "output_type": "display_data"
    }
   ],
   "source": [
    "library(ggplot2)\n",
    "ratio <- 10\n",
    "options(repr.plot.width = ratio*1.6, repr.plot.height = ratio)\n",
    "\n",
    "colors <- c('#be4d25', '#2596be')\n",
    "\n",
    "ggplot(data = diabete_dataset3_wcc[diabete_dataset3_wcc$Diabetes_binary == 0,], aes(x = BMI, fill = \"Without Diabetes\")) + \n",
    "  geom_bar() +\n",
    "  scale_fill_manual(values = colors) +\n",
    "  geom_bar(data = diabete_dataset3_wcc[diabete_dataset3_wcc$Diabetes_binary == 1,], aes(fill = \"With Diabetes\")) +\n",
    "  labs(title = \"BMI distribution\", x = \"BMI\", y = \"Count\") +\n",
    "  theme_classic() +\n",
    "  theme(legend.position = c(0.9, 0.9), legend.justification = c(\"right\", \"top\"), \n",
    "        legend.title = element_blank(), legend.text = element_text(size = 16))\n",
    "  ggsave(\"./images/IMC_distribution.png\", width = 14, height = 8, dpi = 600)\n"
   ]
  },
  {
   "cell_type": "code",
   "execution_count": null,
   "id": "e155a770",
   "metadata": {
    "vscode": {
     "languageId": "r"
    }
   },
   "outputs": [
    {
     "data": {
      "image/png": "[encoded data removed]",
      "text/plain": [
       "plot without title"
      ]
     },
     "metadata": {
      "image/png": {
       "height": 600,
       "width": 960
      }
     },
     "output_type": "display_data"
    }
   ],
   "source": [
    "# Create BMI bins using cut\n",
    "diabete_dataset3_wcc_obesity <- diabete_dataset3_wcc %>%\n",
    "  mutate(BMI_bins = cut(BMI, c(0, 18.5, 25, 30, Inf),\n",
    "                        labels = c('underweight', 'healthy weight', 'overweight', 'obese'),\n",
    "                        include.lowest = TRUE))\n",
    "\n",
    "# Count occurrences of each BMI bin for people with diabetes\n",
    "nbr_with_diabete <- diabete_dataset3_wcc_obesity %>%\n",
    "  filter(Diabetes_binary == 1) %>%\n",
    "  count(BMI_bins) %>%\n",
    "  mutate(percentage = n / sum(n))\n",
    "\n",
    "# Count occurrences of each BMI bin for people without diabetes\n",
    "nbr_no_diabete <- diabete_dataset3_wcc_obesity %>%\n",
    "  filter(Diabetes_binary == 0) %>%\n",
    "  count(BMI_bins) %>%\n",
    "  mutate(percentage = n / sum(n))\n",
    "\n",
    "# Combine the two datasets\n",
    "nbr_combined <- bind_rows(\n",
    "  data.frame(Diabetes_binary = \"With Diabetes\", nbr_with_diabete),\n",
    "  data.frame(Diabetes_binary = \"Without Diabetes\", nbr_no_diabete)\n",
    ")\n",
    "\n",
    "# Plot the histogram\n",
    "ggplot(nbr_combined, aes(x = BMI_bins, y = percentage, fill = Diabetes_binary)) +\n",
    "  geom_bar(stat = \"identity\", position = \"dodge\") +\n",
    "  labs(title = \"BMI bins distribution\", x = \"BMI bins\", y = \"Percentage\") +\n",
    "  theme_classic() +\n",
    "  theme(legend.position = \"top\")\n",
    "  ggsave(\"./images/IMC_diff_distribution.png\", width = 14, height = 8, dpi = 600)\n"
   ]
  },
  {
   "attachments": {},
   "cell_type": "markdown",
   "id": "7665850b",
   "metadata": {},
   "source": [
    "Une première valeur à observer serait la différence entre l'indice de masse corporelle moyen d'une personne diabétique et d'une personne non diabétique.\n",
    "En effet, on observe une différence de $4.11$ points entre les deux moyennes, ce qui est non négligeable. Les diabétiques ont donc en moyenne un IMC plus important que les non-diabétiques. Ceci semble logique, puisque le diabète de type 2 est principalement dûe a un surpoids et à de l'inactivité, impliquant donc un IMC plus important.\n",
    "\n",
    "On remarque aussi que la variance de l'IMC des diabétiques est beaucoup plus élevée que celle des non-diabétiques. Cela peut s'expliquer par le fait que le sondage ne fait pas de distinction entre les individus atteints d'un diabète génétique (diabète de type 1) et les personnes atteintes d'un diabète contracté de par leur [mode de vie](https://www.ameli.fr/assure/sante/themes/diabete-comprendre/causes-facteurs-favorisants). L'IMC d'un diabétique de type 1 est donc en général moins élevé que celui d'un diabétique de type 2. \n",
    "\n",
    "En observat un peu mieux les deux graphique précédent, on voit notamment que la majorité des gens qui sont en bonnes santés ne sont pas diabétique, et à l'inverse, on peut observer qu'un majorité des obèses sont diabétiques.\n",
    "\n",
    "On pourrait déjà conclure que l'IMC est un facteur de risque important pour le diabète. Il semblerait le développement du diabète soit partiellement induit par une augmentation de l'IMC ; On pourra dans le prochain rendu le vérifier à l'aide d'une régression logistique.\n",
    "\n"
   ]
  },
  {
   "attachments": {},
   "cell_type": "markdown",
   "id": "ad7d5e02",
   "metadata": {},
   "source": [
    "##### **c - L'âge**\n",
    "\n",
    "On s'intéresse maintenant à l'impacte de l'âge sur le diabète."
   ]
  },
  {
   "cell_type": "code",
   "execution_count": null,
   "id": "f2f460b8",
   "metadata": {
    "vscode": {
     "languageId": "r"
    }
   },
   "outputs": [
    {
     "name": "stdout",
     "output_type": "stream",
     "text": [
      "Différence entre l'âge moyen des personnes ayant un diabète et des personnes saines :  1.516682\n",
      "Variance des âges des sondés étant diabétiques :  5.412967\n",
      "Variance des âges des sondés étant sains :  9.615262"
     ]
    }
   ],
   "source": [
    "# Différence entre l'âge moyen du nombre de personnes ayant un diabète (1) et l'IMC moyen du nombre de personnes n'ayant pas de diabète (0)\n",
    "cat(\"Différence entre l'âge moyen des personnes ayant un diabète et des personnes saines : \", mean(diabete_dataset3_wcc$Age[diabete_dataset3_wcc$Diabetes_binary == 1]) - mean(diabete_dataset3_wcc$Age[diabete_dataset3_wcc$Diabetes_binary == 0]))\n",
    "\n",
    "# Variance de l'âge du nombre de personnes ayant un diabète (1)\n",
    "cat(\"\\nVariance des âges des sondés étant diabétiques : \", var(diabete_dataset3_wcc$Age[diabete_dataset3_wcc$Diabetes_binary == 1]))\n",
    "# Variance de l'âge du nombre de personnes n'ayant pas de diabète (0)\n",
    "cat(\"\\nVariance des âges des sondés étant sains : \", var(diabete_dataset3_wcc$Age[diabete_dataset3_wcc$Diabetes_binary == 0]))"
   ]
  },
  {
   "cell_type": "code",
   "execution_count": null,
   "id": "4c66c37a",
   "metadata": {
    "vscode": {
     "languageId": "r"
    }
   },
   "outputs": [
    {
     "data": {
      "text/plain": [
       "NULL"
      ]
     },
     "metadata": {},
     "output_type": "display_data"
    }
   ],
   "source": [
    "colors <- c('#be4d25', '#2596be')\n",
    "\n",
    "p <- ggplot(data = diabete_dataset3_wcc[diabete_dataset3_wcc$Diabetes_binary == 0,], aes(Age, fill = \"Without Diabetes\")) + \n",
    "  geom_bar() +\n",
    "  scale_fill_manual(values = colors) +\n",
    "  geom_bar(data = diabete_dataset3_wcc[diabete_dataset3_wcc$Diabetes_binary == 1,], aes(fill = \"With Diabetes\")) +\n",
    "  labs(title = \"Distriution de l'âge\", x = \"Age\", y = \"Count\") +\n",
    "  theme_classic() +\n",
    "  theme(legend.position = c(0.9, 0.9), legend.justification = c(\"right\", \"top\"), \n",
    "        legend.title = element_blank(), legend.text = element_text(size = 16)) +\n",
    "  scale_x_continuous(\n",
    "    breaks = c(1, 2, 3, 4, 5, 6, 7, 8, 9, 10, 11, 12, 13),\n",
    "    labels = c(\n",
    "      '1' = '18-24 ans', '2' = '25-29', '3' = '30-34', \n",
    "      '4' = '35-39', '5' = '40-44', '6' = '45-49', '7' = '50-54', \n",
    "      '8' = '55-59', '9' = '60-64', '10' = '65-69', '11' = '70-74', \n",
    "      '12' = '75-79', '13' ='80+'\n",
    "      )\n",
    "    )\n",
    "    ggsave(\"./images/Age_distribution.png\", width = 14, height = 8, dpi = 600) +\n",
    "  \n",
    "\n",
    "p"
   ]
  },
  {
   "attachments": {},
   "cell_type": "markdown",
   "id": "cedd238d",
   "metadata": {},
   "source": [
    "On observe que la proportion de personnes diabétiques augmente en moyenne avec l'âge. Cela peut s'expliquer par le fait que les personnes âgées sont plus sujettes à développer des maladies chroniques (diabète, hypertension, etc.), en plus du fait que les mauvaises habitudes ont tendance à s'ancrer et se développer (on parle ici de tendance alimentaire et de sédentarité).\n",
    "\n",
    "De plus, on peut remarque que la variance des personnes diabétique est bien plus faible que celle des personnes non-diabétiques. Ils auraient donc une potentielle meilleur espérance de vie."
   ]
  },
  {
   "attachments": {},
   "cell_type": "markdown",
   "id": "072e1371",
   "metadata": {},
   "source": [
    "##### **d - Santé**\n",
    "\n",
    "Les variables en rapport avec l'état de santé physique d'un individu, comme nous l'avons vu, ont une forte corrélation avec la varibale Diabetes_binary, il nous faut donc les analyser en détail. \n",
    "\n",
    "##### **GenHlth**"
   ]
  },
  {
   "cell_type": "code",
   "execution_count": null,
   "id": "9d0a0f7a",
   "metadata": {
    "vscode": {
     "languageId": "r"
    }
   },
   "outputs": [
    {
     "data": {
      "image/png": "[encoded data removed]",
      "text/plain": [
       "plot without title"
      ]
     },
     "metadata": {
      "image/png": {
       "height": 600,
       "width": 960
      }
     },
     "output_type": "display_data"
    }
   ],
   "source": [
    "# On définit les groupes\n",
    "genhlth_groups <- c(\"0\", \"1\", \"2\", \"3\", \"4\", \"5\")\n",
    "\n",
    "# Création d'un nouveau dataset avec les groupes de 'GenHlth' de touts les non diabétiques\n",
    "without_diabetes_gen <- diabete_dataset3_wcc %>% \n",
    "  filter(Diabetes_binary == FALSE) %>%  # On ne garde que les non diabétiques\n",
    "  group_by(GenHlth) %>%  # On regroupe par (VARIABLE)\n",
    "  summarize(count = n()) %>% # On compte le nombre de personnes par groupe \n",
    "  mutate(percent = count / sum(count)) # On calcule le pourcentage de personnes par groupe \n",
    "\n",
    "# Création d'un nouveau dataset avec les groupes de 'GenHlth' de touts les diabétiques\n",
    "with_diabetes_gen <- diabete_dataset3_wcc %>% \n",
    "  filter(Diabetes_binary == TRUE) %>% \n",
    "  group_by(GenHlth) %>% \n",
    "  summarize(count = n()) %>% \n",
    "  mutate(percent = count / sum(count))\n",
    "\n",
    "combined_data <- rbind(without_diabetes_gen %>% mutate(Diabetes = \"Without Diabetes\"),  # On fusionne les deux datasets\n",
    "                       with_diabetes_gen %>% mutate(Diabetes = \"With Diabetes\"))\n",
    "\n",
    "# On crée les deux graphiques de manière à pouvoir comparer les variations de santé dans les deux cas\n",
    "ggplot(combined_data) +\n",
    "  geom_bar(aes(x = GenHlth, y = percent, fill = Diabetes), stat = \"identity\", position = \"dodge\") +\n",
    "  labs(title = \"General health repartition per diabete status\", x = \"\") +\n",
    "  scale_x_discrete(limits = genhlth_groups, labels = genhlth_groups, breaks = genhlth_groups) +\n",
    "  theme(axis.text.x = element_text(angle = 45, vjust = 1, hjust = 1)) +\n",
    "  scale_y_continuous(labels = scales::percent) +\n",
    "  facet_wrap(~ Diabetes, ncol = 2)\n",
    "  ggsave(\"./images/GenHlth.png\", width = 14, height = 8, dpi = 600)\n",
    "\n"
   ]
  },
  {
   "attachments": {},
   "cell_type": "markdown",
   "id": "62740997",
   "metadata": {},
   "source": [
    "Ici, on observe que le nombre de personnes diabétiques semble (très approximativement) décrire une loi gaussienne.\n",
    "\n",
    "La majorité des personnes diabétiques semblent se dire en santé \"moyenne\", même si on observe tout de même qu'on penche vers un état de santé moyen relativement pire que \"moyen\". Cela semble logique : une personne atteint de diabète se sent généralement en moins bonne santé puisqu'il est \"malade\". On voit d'ailleurs que la santé moyenne des gens non atteint est bien inférieur (2.4/5, 1 étant le meilleur.), indiquant une bien meilleure santé générale.\n",
    "\n",
    "Nous pourrions coroboré les différentes observations précédentes et introduire des valeurs intermédiaires pour les variables de santé générale, afin d'obtenir des résultats plus précis.\n",
    "\n",
    "##### **PhysHlth** "
   ]
  },
  {
   "cell_type": "code",
   "execution_count": null,
   "id": "889acfe5",
   "metadata": {
    "vscode": {
     "languageId": "r"
    }
   },
   "outputs": [
    {
     "name": "stdout",
     "output_type": "stream",
     "text": [
      "\n",
      "Moyenne des jours de mauvaise santé des personnes n'ayant pas de diabète :  3.683236\n",
      "Moyenne des jours de mauvaise santé des personnes ayant un diabète :  7.950349"
     ]
    },
    {
     "data": {
      "image/png": "[encoded data removed]",
      "text/plain": [
       "plot without title"
      ]
     },
     "metadata": {
      "image/png": {
       "height": 600,
       "width": 960
      }
     },
     "output_type": "display_data"
    }
   ],
   "source": [
    "# On définit les groupes\n",
    "phys_groups <- c(\"0\", \"1\", \"2\", \"3\", \"4\", \"5\", \"6\", \"7\", \"8\", \"9\", \"10\", \"11\", \"12\", \"13\", \"14\", \"15\", \"16\", \"17\", \"18\", \"19\", \"20\", \n",
    "\"21\", \"22\", \"23\", \"24\", \"25\", \"26\", \"27\", \"28\", \"29\", \"30\")\n",
    "\n",
    "# Création d'un nouveau dataset avec les groupes de santé physique sur 30 jours de tous les non diabétiques\n",
    "without_diabetes_phys <- diabete_dataset3_wcc %>% \n",
    "  filter(Diabetes_binary == FALSE) %>%  # On ne garde que les non diabétiques\n",
    "  group_by(PhysHlth) %>%  # On regroupe par (VARIABLE)\n",
    "  summarize(count = n()) %>% # On compte le nombre de personnes par groupe\n",
    "  mutate(percent = count / sum(count)) # On calcule le pourcentage de personnes par groupe\n",
    "\n",
    "# Création d'un nouveau dataset avec les groupes de santé physique sur 30 jours de tous les diabétiques\n",
    "with_diabetes_phys <- diabete_dataset3_wcc %>% \n",
    "  filter(Diabetes_binary == TRUE) %>% \n",
    "  group_by(PhysHlth) %>% \n",
    "  summarize(count = n()) %>% \n",
    "  mutate(percent = count / sum(count))\n",
    "\n",
    "combined_data <- rbind(without_diabetes_phys %>% mutate(Diabetes = \"Without Diabetes\"),  # On fusionne les deux datasets\n",
    "                       with_diabetes_phys %>% mutate(Diabetes = \"With Diabetes\"))\n",
    "\n",
    "# On crée les deux graphiques de manière à pouvoir comparer les variations de santé physique sur 30 jours dans les deux cas\n",
    "ggplot(combined_data) +\n",
    "  geom_bar(aes(x = PhysHlth, y = percent, fill = Diabetes), stat = \"identity\", position = \"dodge\") +\n",
    "  labs(title = \"Number of bad physical condition days in the last 30 days\", x = \"\") +\n",
    "  scale_x_discrete(limits = c(\"1\", \"2\", \"3\", \"4\", \"5\", \"6\", \"7\", \"8\", \"9\", \"10\", \"11\", \"12\", \"13\", \"14\", \"15\", \"16\", \"17\", \"18\", \"19\", \"20\", \n",
    "\"21\", \"22\", \"23\", \"24\", \"25\", \"26\", \"27\", \"28\", \"29\", \"30\",\"31\"), labels = phys_groups, breaks = phys_groups) +\n",
    "  theme(axis.text.x = element_text(angle = 45, vjust = 0, hjust = 0)) +\n",
    "  scale_y_continuous(labels = scales::percent) +\n",
    "  facet_wrap(~ Diabetes, ncol = 1)\n",
    "  ggsave(\"./images/PhysHlth.png\", width = 14, height = 8, dpi = 600)\n",
    "\n",
    "\n",
    "# Moyenne des jours de mauvaise santé des personnes n'ayant pas de diabète (0)\n",
    "cat(\"\\nMoyenne des jours de mauvaise santé des personnes n'ayant pas de diabète : \", mean(diabete_dataset3_wcc$PhysHlth[diabete_dataset3_wcc$Diabetes_binary == 0]))\n",
    "# Moyenne des jours de mauvaise santé des personnes ayant un diabète (1)\n",
    "cat(\"\\nMoyenne des jours de mauvaise santé des personnes ayant un diabète : \", mean(diabete_dataset3_wcc$PhysHlth[diabete_dataset3_wcc$Diabetes_binary == 1]))\n"
   ]
  },
  {
   "attachments": {},
   "cell_type": "markdown",
   "id": "c5569cb2",
   "metadata": {},
   "source": [
    "En comparant les moyennes, on se rend compte que les gens atteint de diabète ont bien plus de jour de mauvaise santé en général (~8j) que les gens qui n'en sont pas atteint (~4j).\n",
    "\n",
    "En observant les graphiques, on se rend bien compte de la disparité entre les jours de mauvaise santé. La proportion de diabétique n'ayant aucun jour de mauvaise santé est bien inférieure (~48%) à celle des non diabétique (~64%). On voit cet impact sur la proportion de gens qui n'ont eu que des jour de mauvaises santé (~18% pour les diabétiques contre ~7%)."
   ]
  },
  {
   "attachments": {},
   "cell_type": "markdown",
   "id": "7f1ca51a",
   "metadata": {},
   "source": [
    "##### **PhysActivity**"
   ]
  },
  {
   "cell_type": "code",
   "execution_count": null,
   "id": "090cbf54",
   "metadata": {
    "vscode": {
     "languageId": "r"
    }
   },
   "outputs": [
    {
     "data": {
      "image/png": "[encoded data removed]",
      "text/plain": [
       "Plot with title \"Percentage of PhysActivity by Diabetes_binary status\""
      ]
     },
     "metadata": {
      "image/png": {
       "height": 360,
       "width": 576
      }
     },
     "output_type": "display_data"
    }
   ],
   "source": [
    "ratio <- 6\n",
    "options(repr.plot.width = ratio*1.6, repr.plot.height = ratio)\n",
    "\n",
    "graph_horizontal_bars_diabete(diabete_dataset3_wcc, \"Diabetes_binary\", \"PhysActivity\")"
   ]
  },
  {
   "attachments": {},
   "cell_type": "markdown",
   "metadata": {},
   "source": [
    "On arrive a la même conclusion que dans les 3 autres graphs ci-dessus : Les diabétiques ont généralement une activité physique plus faible (63%) que les non-diabétiques (78%)."
   ]
  },
  {
   "attachments": {},
   "cell_type": "markdown",
   "id": "7003869c",
   "metadata": {},
   "source": [
    "##### **e - Aspect financier**\n",
    "\n",
    "Beaucoup de nos données se portent sur un aspect financier ou sur un certain statut social. En effet, comme cité précédemment, les USAs ont un système de santé bien différent du notre, et il n'est pas rare que certaines personnes ne se soignent pas dû au coût trop élevé de la médication. Il est donc intéressant de voir si l'aspect financier à un impact à la fois sur le développement du diabète, mais aussi sur les autres facteurs tels que le sport, etc...\n",
    "\n",
    "On étudira donc notamment l'impact des variables Income et Education."
   ]
  },
  {
   "attachments": {},
   "cell_type": "markdown",
   "id": "b191b8c2",
   "metadata": {},
   "source": [
    "##### **Income**\n",
    "\n",
    "*Money, money, money !*\n",
    "\n",
    "Nous allons, dans cette partie, étudier l'impact du salaire sur les personnes diabétiques et non-diabétiques. Le code ci-dessous permet de calculer le pourcentage des personnes diabétiques et non-diabétiques par tranche de salaire. "
   ]
  },
  {
   "cell_type": "code",
   "execution_count": null,
   "id": "c54c0011",
   "metadata": {
    "vscode": {
     "languageId": "r"
    }
   },
   "outputs": [
    {
     "data": {
      "image/png": "[encoded data removed]",
      "text/plain": [
       "plot without title"
      ]
     },
     "metadata": {
      "image/png": {
       "height": 600,
       "width": 960
      }
     },
     "output_type": "display_data"
    }
   ],
   "source": [
    "ratio <- 10\n",
    "options(repr.plot.width = ratio*1.6, repr.plot.height = ratio)\n",
    "\n",
    "# On définit les groupes de revenus\n",
    "income_groups <- c(\"<10,000\", \"10,000–15,000\", \"15,000–20,000\", \n",
    "                    \"20,000–25,000\", \"25,000–35,000\", \"35,000–50,000\", \n",
    "                    \"50,001–75,000\", \">75,000\")\n",
    "\n",
    "# Création d'un nouveau dataset avec les groupes de revenus de touts les non diabétiques\n",
    "without_diabetes <- diabete_dataset3_wcc %>% \n",
    "  filter(Diabetes_binary == FALSE) %>%  # On ne garde que les non diabétiques\n",
    "  group_by(Income) %>%  # On regroupe par revenu\n",
    "  summarize(count = n()) %>% # On compte le nombre de personnes par groupe de revenu\n",
    "  mutate(percent = count / sum(count)) # On calcule le pourcentage de personnes par groupe de revenu\n",
    "\n",
    "with_diabetes <- diabete_dataset3_wcc %>% \n",
    "  filter(Diabetes_binary == TRUE) %>% \n",
    "  group_by(Income) %>% \n",
    "  summarize(count = n()) %>% \n",
    "  mutate(percent = count / sum(count))\n",
    "\n",
    "combined_data <- rbind(without_diabetes %>% mutate(Diabetes = \"Without Diabetes\"),  # On fusionne les deux datasets\n",
    "                       with_diabetes %>% mutate(Diabetes = \"With Diabetes\"))\n",
    "\n",
    "# On crée les deux graphiques de manière à pouvoir comparer les variations de revenus dans les deux cas\n",
    "ggplot(combined_data) +\n",
    "  geom_bar(aes(x = Income, y = percent, fill = Diabetes), stat = \"identity\", position = \"dodge\") +\n",
    "  labs(title = \"Annual household income (in dollar)\", x = \"\") +\n",
    "  scale_x_discrete(limits = income_groups, labels = income_groups, breaks = income_groups) +\n",
    "  theme(axis.text.x = element_text(angle = 45, vjust = 1, hjust = 1)) +\n",
    "  scale_y_continuous(labels = scales::percent) +\n",
    "  facet_wrap(~ Diabetes, ncol = 2)\n",
    "  ggsave(\"./images/Income.png\", width = 14, height = 8, dpi = 600)\n",
    "\n",
    "\n"
   ]
  },
  {
   "cell_type": "code",
   "execution_count": null,
   "id": "4ad935b5",
   "metadata": {
    "vscode": {
     "languageId": "r"
    }
   },
   "outputs": [
    {
     "name": "stderr",
     "output_type": "stream",
     "text": [
      "\u001b[1m\u001b[22m`summarise()` has grouped output by 'Income', 'Diabetes_binary'. You can\n",
      "override using the `.groups` argument.\n"
     ]
    },
    {
     "data": {
      "image/png": "[encoded data removed]",
      "text/plain": [
       "plot without title"
      ]
     },
     "metadata": {
      "image/png": {
       "height": 600,
       "width": 960
      }
     },
     "output_type": "display_data"
    }
   ],
   "source": [
    "# Count occurrences of each BMI bin for each income group and diabetes status\n",
    "diabetes_data <- diabete_dataset3_wcc_obesity %>%\n",
    "  group_by(Income, Diabetes_binary, BMI_bins) %>%\n",
    "  summarize(count = n()) %>%\n",
    "  mutate(percentage = count / sum(count))\n",
    "\n",
    "# Plot the bar chart\n",
    "ggplot(diabetes_data, aes(x = Income, y = percentage, fill = BMI_bins)) +\n",
    "  geom_bar(stat = \"identity\", position = \"dodge\") +\n",
    "  labs(title = \"BMI bins distribution by income group and diabetes status\", x = \"Income group\", y = \"Percentage\") +\n",
    "  scale_x_discrete(limits = income_groups, labels = income_groups, breaks = income_groups) +\n",
    "  theme_classic() +\n",
    "  theme(legend.position = \"top\") +\n",
    "  facet_wrap(~ Diabetes_binary, ncol = 2)\n",
    "  ggsave(\"./images/income_IMC.png\", width = 14, height = 8, dpi = 600)\n"
   ]
  },
  {
   "attachments": {},
   "cell_type": "markdown",
   "id": "81c254f7",
   "metadata": {},
   "source": [
    "On remarque que la proportion de personnes diabétiques augmente avec le salaire. Plus encore (et d'après le second dirgramme en barre), on remarque que la proportion des personnes qui sont diabétiques et obèse reste à peu près constante quelque soit le niveau de revenus de la personne.\n",
    "Idem pour les personnes diabétiques et ayant un IMC entre 18.5 et 25 (poid \"\"\"standart\"\"\").\n",
    "On semble également observer une progression lineaire positive de la proportion de personnes en surpoid qui sont diabétiques selon le niveau de revenus.\n",
    "\n",
    "La proportion de personne non-diabétiques et obèse semble diminuer avec le salaire, ce qui est logique puisque les personnes les plus riches ont tendance à manger moins gras et moins sucré (à coroboré avec le fait que les sondés manges des fruit et des légumes chaques jours)."
   ]
  },
  {
   "attachments": {},
   "cell_type": "markdown",
   "id": "604ab78a",
   "metadata": {},
   "source": [
    "##### **Education**\n",
    "\n",
    "*Eduquez-vous, réduquez-vous qu'ils disaient...*"
   ]
  },
  {
   "cell_type": "code",
   "execution_count": null,
   "id": "cdcae152",
   "metadata": {
    "vscode": {
     "languageId": "r"
    }
   },
   "outputs": [
    {
     "name": "stderr",
     "output_type": "stream",
     "text": [
      "\u001b[1m\u001b[22m`summarise()` has grouped output by 'Education'. You can override using the\n",
      "`.groups` argument.\n"
     ]
    },
    {
     "data": {
      "text/html": [
       "<table class=\"dataframe\">\n",
       "<caption>A grouped_df: 12 × 4</caption>\n",
       "<thead>\n",
       "\t<tr><th scope=col>Education</th><th scope=col>Diabetes_binary</th><th scope=col>count</th><th scope=col>percentage</th></tr>\n",
       "\t<tr><th scope=col>&lt;dbl&gt;</th><th scope=col>&lt;dbl&gt;</th><th scope=col>&lt;int&gt;</th><th scope=col>&lt;dbl&gt;</th></tr>\n",
       "</thead>\n",
       "<tbody>\n",
       "\t<tr><td>1</td><td>0</td><td>  120</td><td>0.71856287</td></tr>\n",
       "\t<tr><td>1</td><td>1</td><td>   47</td><td>0.28143713</td></tr>\n",
       "\t<tr><td>2</td><td>0</td><td> 2756</td><td>0.70109387</td></tr>\n",
       "\t<tr><td>2</td><td>1</td><td> 1175</td><td>0.29890613</td></tr>\n",
       "\t<tr><td>3</td><td>0</td><td> 6855</td><td>0.75049266</td></tr>\n",
       "\t<tr><td>3</td><td>1</td><td> 2279</td><td>0.24950734</td></tr>\n",
       "\t<tr><td>4</td><td>0</td><td>49420</td><td>0.81823901</td></tr>\n",
       "\t<tr><td>4</td><td>1</td><td>10978</td><td>0.18176099</td></tr>\n",
       "\t<tr><td>5</td><td>0</td><td>56790</td><td>0.84679043</td></tr>\n",
       "\t<tr><td>5</td><td>1</td><td>10275</td><td>0.15320957</td></tr>\n",
       "\t<tr><td>6</td><td>0</td><td>93164</td><td>0.90000483</td></tr>\n",
       "\t<tr><td>6</td><td>1</td><td>10351</td><td>0.09999517</td></tr>\n",
       "</tbody>\n",
       "</table>\n"
      ],
      "text/latex": [
       "A grouped\\_df: 12 × 4\n",
       "\\begin{tabular}{llll}\n",
       " Education & Diabetes\\_binary & count & percentage\\\\\n",
       " <dbl> & <dbl> & <int> & <dbl>\\\\\n",
       "\\hline\n",
       "\t 1 & 0 &   120 & 0.71856287\\\\\n",
       "\t 1 & 1 &    47 & 0.28143713\\\\\n",
       "\t 2 & 0 &  2756 & 0.70109387\\\\\n",
       "\t 2 & 1 &  1175 & 0.29890613\\\\\n",
       "\t 3 & 0 &  6855 & 0.75049266\\\\\n",
       "\t 3 & 1 &  2279 & 0.24950734\\\\\n",
       "\t 4 & 0 & 49420 & 0.81823901\\\\\n",
       "\t 4 & 1 & 10978 & 0.18176099\\\\\n",
       "\t 5 & 0 & 56790 & 0.84679043\\\\\n",
       "\t 5 & 1 & 10275 & 0.15320957\\\\\n",
       "\t 6 & 0 & 93164 & 0.90000483\\\\\n",
       "\t 6 & 1 & 10351 & 0.09999517\\\\\n",
       "\\end{tabular}\n"
      ],
      "text/markdown": [
       "\n",
       "A grouped_df: 12 × 4\n",
       "\n",
       "| Education &lt;dbl&gt; | Diabetes_binary &lt;dbl&gt; | count &lt;int&gt; | percentage &lt;dbl&gt; |\n",
       "|---|---|---|---|\n",
       "| 1 | 0 |   120 | 0.71856287 |\n",
       "| 1 | 1 |    47 | 0.28143713 |\n",
       "| 2 | 0 |  2756 | 0.70109387 |\n",
       "| 2 | 1 |  1175 | 0.29890613 |\n",
       "| 3 | 0 |  6855 | 0.75049266 |\n",
       "| 3 | 1 |  2279 | 0.24950734 |\n",
       "| 4 | 0 | 49420 | 0.81823901 |\n",
       "| 4 | 1 | 10978 | 0.18176099 |\n",
       "| 5 | 0 | 56790 | 0.84679043 |\n",
       "| 5 | 1 | 10275 | 0.15320957 |\n",
       "| 6 | 0 | 93164 | 0.90000483 |\n",
       "| 6 | 1 | 10351 | 0.09999517 |\n",
       "\n"
      ],
      "text/plain": [
       "   Education Diabetes_binary count percentage\n",
       "1  1         0                 120 0.71856287\n",
       "2  1         1                  47 0.28143713\n",
       "3  2         0                2756 0.70109387\n",
       "4  2         1                1175 0.29890613\n",
       "5  3         0                6855 0.75049266\n",
       "6  3         1                2279 0.24950734\n",
       "7  4         0               49420 0.81823901\n",
       "8  4         1               10978 0.18176099\n",
       "9  5         0               56790 0.84679043\n",
       "10 5         1               10275 0.15320957\n",
       "11 6         0               93164 0.90000483\n",
       "12 6         1               10351 0.09999517"
      ]
     },
     "metadata": {},
     "output_type": "display_data"
    }
   ],
   "source": [
    "# On compte le nombre de personnes par groupe d'éducation selon le statut de diabète\n",
    "education_groups <- c(\"1\", \"2\", \"3\", \"4\", \"5\", \"6\")\n",
    "\n",
    "education_data <- diabete_dataset3_wcc %>%\n",
    "  group_by(Education, Diabetes_binary) %>%\n",
    "  summarize(count = n()) %>%\n",
    "  mutate(percentage = count / sum(count))\n",
    "education_data"
   ]
  },
  {
   "attachments": {},
   "cell_type": "markdown",
   "id": "40382ddb",
   "metadata": {},
   "source": [
    "Nous allons, dans cette partie, étudier l'impact de l'éducation sur les personnes diabétiques et non-diabétiques.\n",
    "\n",
    "Le code ci-dessous permet de calculer le pourcentage des personnes diabétiques et non-diabétiques par tranche d'éducation. "
   ]
  },
  {
   "cell_type": "code",
   "execution_count": null,
   "id": "d118b12e",
   "metadata": {
    "vscode": {
     "languageId": "r"
    }
   },
   "outputs": [
    {
     "data": {
      "image/png": "[encoded data removed]",
      "text/plain": [
       "plot without title"
      ]
     },
     "metadata": {
      "image/png": {
       "height": 600,
       "width": 960
      }
     },
     "output_type": "display_data"
    }
   ],
   "source": [
    "# On définit les groupes de revenus\n",
    "education_groups <- c(\"1\", \"2\", \"3\", \"4\", \"5\", \"6\")\n",
    "\n",
    "# Création d'un nouveau dataset avec les groupes de revenus de touts les non diabétiques\n",
    "without_diabetes <- diabete_dataset3_wcc %>% \n",
    "  filter(Diabetes_binary == FALSE) %>%  # On ne garde que les non diabétiques\n",
    "  group_by(Education) %>%  # On regroupe par revenu\n",
    "  summarize(count = n()) %>% # On compte le nombre de personnes par groupe de revenu\n",
    "  mutate(percent = count / sum(count)) # On calcule le pourcentage de personnes par groupe de revenu\n",
    "\n",
    "with_diabetes <- diabete_dataset3_wcc %>% \n",
    "  filter(Diabetes_binary == TRUE) %>% \n",
    "  group_by(Education) %>% \n",
    "  summarize(count = n()) %>% \n",
    "  mutate(percent = count / sum(count))\n",
    "\n",
    "combined_data <- rbind(without_diabetes %>% mutate(Diabetes = \"Without Diabetes\"),  # On fusionne les deux datasets\n",
    "                       with_diabetes %>% mutate(Diabetes = \"With Diabetes\"))\n",
    "\n",
    "# On crée les deux graphiques de manière à pouvoir comparer les variations de revenus dans les deux cas\n",
    "ggplot(combined_data) +\n",
    "  geom_bar(aes(x = Education, y = percent, fill = Diabetes), stat = \"identity\", position = \"dodge\") +\n",
    "  labs(title = \"Education level (from 1 to 6)\", x = \"\") +\n",
    "  scale_x_discrete(limits = education_groups, labels = education_groups, breaks = education_groups) +\n",
    "  theme(axis.text.x = element_text(angle = 45, vjust = 1, hjust = 1)) +\n",
    "  scale_y_continuous(labels = scales::percent) +\n",
    "  facet_wrap(~ Diabetes, ncol = 2)\n",
    "  ggsave(\"./images/Education.png\", width = 14, height = 8, dpi = 600)\n",
    "\n",
    "\n"
   ]
  },
  {
   "attachments": {},
   "cell_type": "markdown",
   "id": "316c974b",
   "metadata": {},
   "source": [
    "On observe une part significative de personnes non diabétique avec un haut niveau d'éducation (sachant qu'ils représente la majeure partie de notre base de données), là où pour les diabétiques la proportion de personnes ayant un niveau d'éducation à 6 est très similaire aux personnes du niveau 4 ou 6\n",
    "\n"
   ]
  },
  {
   "cell_type": "code",
   "execution_count": null,
   "id": "5b2677ef",
   "metadata": {
    "vscode": {
     "languageId": "r"
    }
   },
   "outputs": [
    {
     "name": "stderr",
     "output_type": "stream",
     "text": [
      "\u001b[1m\u001b[22m`summarise()` has grouped output by 'Education', 'Diabetes_binary'. You can\n",
      "override using the `.groups` argument.\n"
     ]
    },
    {
     "data": {
      "image/png": "[encoded data removed]",
      "text/plain": [
       "plot without title"
      ]
     },
     "metadata": {
      "image/png": {
       "height": 600,
       "width": 960
      }
     },
     "output_type": "display_data"
    }
   ],
   "source": [
    "# Create Veggie bins using cut\n",
    "diabete_dataset3_wcc_veggies <- diabete_dataset3_wcc %>% \n",
    "  mutate(Veggie_bins = cut(Veggies, breaks = c(-Inf, 0, 1, Inf), labels = c(\"0\", \"0\", \"1\"), right = FALSE))\n",
    "\n",
    "# Count occurrences of each BMI bin for each education group and diabetes status\n",
    "diabetes_data <- diabete_dataset3_wcc_veggies %>%\n",
    "  group_by(Education, Diabetes_binary, Veggie_bins) %>%\n",
    "  summarize(count = n()) %>%\n",
    "  mutate(percentage = count / sum(count))\n",
    "\n",
    "# Plot the bar chart\n",
    "ggplot(diabetes_data, aes(x = Education, y = percentage, fill = Veggie_bins)) +\n",
    "  geom_bar(stat = \"identity\", position = \"dodge\") +\n",
    "  labs(title = \"Veggie Bins distribution by Education group and diabetes status\", x = \"Education group\", y = \"Percentage\") +\n",
    "  scale_x_discrete(limits = education_groups, labels = education_groups, breaks = education_groups) +\n",
    "  scale_fill_manual(values = c(\"#E69F00\", \"#56B4E9\", \"#009E73\")) +\n",
    "  guides(fill = guide_legend(title = \"Veggie Bins\")) +\n",
    "  theme_classic() +\n",
    "  theme(legend.position = \"top\") +\n",
    "  facet_wrap(~ Diabetes_binary, ncol = 2)\n",
    "  ggsave(\"./images/Educ_Veggies.png\", width = 14, height = 8, dpi = 600)\n",
    "\n"
   ]
  },
  {
   "cell_type": "code",
   "execution_count": null,
   "id": "348021ce",
   "metadata": {
    "vscode": {
     "languageId": "r"
    }
   },
   "outputs": [
    {
     "name": "stderr",
     "output_type": "stream",
     "text": [
      "\u001b[1m\u001b[22m`summarise()` has grouped output by 'Education', 'Diabetes_binary'. You can\n",
      "override using the `.groups` argument.\n"
     ]
    },
    {
     "data": {
      "image/png": "[encoded data removed]",
      "text/plain": [
       "plot without title"
      ]
     },
     "metadata": {
      "image/png": {
       "height": 600,
       "width": 960
      }
     },
     "output_type": "display_data"
    }
   ],
   "source": [
    "# Create Fruits bins using cut\n",
    "diabete_dataset3_wcc_fruits <- diabete_dataset3_wcc %>% \n",
    "  mutate(Fruit_bins = cut(Fruits, breaks = c(-Inf, 0, 1, Inf), labels = c(\"0\", \"0\", \"1\"), right = FALSE))\n",
    "\n",
    "# Count occurrences of each BMI bin for each Education group and diabetes status\n",
    "diabetes_data <- diabete_dataset3_wcc_fruits %>%\n",
    "  group_by(Education, Diabetes_binary, Fruit_bins) %>%\n",
    "  summarize(count = n()) %>%\n",
    "  mutate(percentage = count / sum(count))\n",
    "\n",
    "# Plot the bar chart\n",
    "ggplot(diabetes_data, aes(x = Education, y = percentage, fill = Fruit_bins)) +\n",
    "  geom_bar(stat = \"identity\", position = \"dodge\") +\n",
    "  labs(title = \"Fruit Bins distribution by Education group and diabetes status\", x = \"Education group\", y = \"Percentage\") +\n",
    "  scale_x_discrete(limits = education_groups, labels = education_groups, breaks = education_groups) +\n",
    "  scale_fill_manual(values = c(\"#E69F00\", \"#56B4E9\", \"#009E73\")) +\n",
    "  guides(fill = guide_legend(title = \"Fruit Bins\")) +\n",
    "  theme_classic() +\n",
    "  theme(legend.position = \"top\") +\n",
    "  facet_wrap(~ Diabetes_binary, ncol = 2)\n",
    "  ggsave(\"./images/Educ_fruits.png\", width = 14, height = 8, dpi = 600)\n"
   ]
  },
  {
   "attachments": {},
   "cell_type": "markdown",
   "id": "a24ecc2e",
   "metadata": {},
   "source": [
    "### Corrélation de Pearson et sélection de variables"
   ]
  },
  {
   "cell_type": "code",
   "execution_count": null,
   "id": "57df10d2",
   "metadata": {
    "vscode": {
     "languageId": "r"
    }
   },
   "outputs": [
    {
     "name": "stdout",
     "output_type": "stream",
     "text": [
      "     Diabetes_binary              GenHlth               HighBP \n",
      "          1.00000000           0.29440978           0.26023749 \n",
      "                 BMI             DiffWalk             HighChol \n",
      "          0.21798161           0.21765173           0.19718305 \n",
      "HeartDiseaseorAttack                  Age             PhysHlth \n",
      "          0.17493877           0.17453812           0.17067203 \n",
      "              Income            Education         PhysActivity \n",
      "          0.16689437           0.12628878           0.12012700 \n",
      "              Stroke             MentHlth               Smoker \n",
      "          0.10467225           0.07067508           0.06224606 \n",
      "             Veggies    HvyAlcoholConsump               Fruits \n",
      "          0.05789407           0.05682056           0.04280299 \n",
      "         NoDocbcCost                  Sex        AnyHealthcare \n",
      "          0.03490023           0.03353753           0.01041200 \n"
     ]
    }
   ],
   "source": [
    "# Calculer le coefficient de corrélation de Pearson entre Diabetes_binary et les autres variables\n",
    "correlations <- cor(diabete_dataset3_wcc, method = \"pearson\")\n",
    "\n",
    "# Sélectionner seulement les corrélations avec Diabetes_binary\n",
    "correlations_diabetes <- correlations[, \"Diabetes_binary\"]\n",
    "\n",
    "# Trier les corrélations par ordre décroissant\n",
    "correlations_diabetes <- sort(abs(correlations_diabetes), decreasing = TRUE)\n",
    "\n",
    "# Selectioner les corrélation avec un coefficient supérieur à 0.05 en valeur absolue\n",
    "#correlations_diabetes <- correlations_diabetes[abs(correlations_diabetes) > 0.05]\n",
    "\n",
    "# Afficher les corrélations avec Diabetes_binary\n",
    "print(correlations_diabetes)"
   ]
  }
 ],
 "metadata": {
  "kernelspec": {
   "display_name": "R",
   "language": "R",
   "name": "ir"
  },
  "language_info": {
   "codemirror_mode": "r",
   "file_extension": ".r",
   "mimetype": "text/x-r-source",
   "name": "R",
   "pygments_lexer": "r",
   "version": "4.2.2"
  },
  "papermill": {
   "default_parameters": {},
   "duration": 14.069609,
   "end_time": "2023-03-11T12:15:37.555213",
   "environment_variables": {},
   "exception": null,
   "input_path": "__notebook__.ipynb",
   "output_path": "__notebook__.ipynb",
   "parameters": {},
   "start_time": "2023-03-11T12:15:23.485604",
   "version": "2.4.0"
  }
 },
 "nbformat": 4,
 "nbformat_minor": 5
}
